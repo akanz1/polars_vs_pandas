{
 "cells": [
  {
   "cell_type": "code",
   "execution_count": 9,
   "metadata": {},
   "outputs": [],
   "source": [
    "import polars as pl\n",
    "\n",
    "# df = pl.read_csv(\"../data/hotel_bookings.csv\", ignore_errors=True)\n"
   ]
  },
  {
   "cell_type": "code",
   "execution_count": 10,
   "metadata": {},
   "outputs": [],
   "source": [
    "# df = df.filter(pl.col(\"arrival_date_year\") > 2015).groupby(\"hotel\").sum()\n",
    "# df\n"
   ]
  },
  {
   "cell_type": "code",
   "execution_count": 11,
   "metadata": {},
   "outputs": [],
   "source": [
    "# q = (pl.scan_csv(\"../data/hotel_bookings.csv\", ignore_errors=True)\n",
    "#     .filter(pl.col(\"arrival_date_year\") > 2015)\n",
    "#     .groupby(\"hotel\")\n",
    "#     .agg(pl.col(\"*\").sum())\n",
    "# )\n",
    "# df = q.collect()\n",
    "# df\n"
   ]
  },
  {
   "cell_type": "code",
   "execution_count": 12,
   "metadata": {},
   "outputs": [
    {
     "name": "stdout",
     "output_type": "stream",
     "text": [
      "shape: (6, 5)\n",
      "┌──────┬───────┬──────────┬──────────┬────────┐\n",
      "│ nrs  ┆ names ┆ random   ┆ random2  ┆ groups │\n",
      "│ ---  ┆ ---   ┆ ---      ┆ ---      ┆ ---    │\n",
      "│ i64  ┆ str   ┆ f64      ┆ f64      ┆ str    │\n",
      "╞══════╪═══════╪══════════╪══════════╪════════╡\n",
      "│ 1    ┆ foo   ┆ 0.154163 ┆ 0.900715 ┆ A      │\n",
      "├╌╌╌╌╌╌┼╌╌╌╌╌╌╌┼╌╌╌╌╌╌╌╌╌╌┼╌╌╌╌╌╌╌╌╌╌┼╌╌╌╌╌╌╌╌┤\n",
      "│ 2    ┆ ham   ┆ 0.74     ┆ 0.033421 ┆ A      │\n",
      "├╌╌╌╌╌╌┼╌╌╌╌╌╌╌┼╌╌╌╌╌╌╌╌╌╌┼╌╌╌╌╌╌╌╌╌╌┼╌╌╌╌╌╌╌╌┤\n",
      "│ 3    ┆ spam  ┆ 0.263315 ┆ 0.956949 ┆ B      │\n",
      "├╌╌╌╌╌╌┼╌╌╌╌╌╌╌┼╌╌╌╌╌╌╌╌╌╌┼╌╌╌╌╌╌╌╌╌╌┼╌╌╌╌╌╌╌╌┤\n",
      "│ null ┆ foo   ┆ 0.533739 ┆ 0.137209 ┆ C      │\n",
      "├╌╌╌╌╌╌┼╌╌╌╌╌╌╌┼╌╌╌╌╌╌╌╌╌╌┼╌╌╌╌╌╌╌╌╌╌┼╌╌╌╌╌╌╌╌┤\n",
      "│ 5    ┆ foo   ┆ 0.014575 ┆ 0.283828 ┆ A      │\n",
      "├╌╌╌╌╌╌┼╌╌╌╌╌╌╌┼╌╌╌╌╌╌╌╌╌╌┼╌╌╌╌╌╌╌╌╌╌┼╌╌╌╌╌╌╌╌┤\n",
      "│ 6    ┆ spam  ┆ 0.918747 ┆ 0.606083 ┆ A      │\n",
      "└──────┴───────┴──────────┴──────────┴────────┘\n"
     ]
    }
   ],
   "source": [
    "import numpy as np\n",
    "\n",
    "np.random.seed(12)\n",
    "\n",
    "df = pl.DataFrame(\n",
    "    {\n",
    "        \"nrs\": [1, 2, 3, None, 5, 6],\n",
    "        \"names\": [\"foo\", \"ham\", \"spam\", \"foo\", \"foo\", \"spam\"],\n",
    "        \"random\": np.random.rand(6),\n",
    "        \"random2\": np.random.rand(6),\n",
    "        \"groups\": [\"A\", \"A\", \"B\", \"C\", \"A\", \"A\"],\n",
    "    }\n",
    ")\n",
    "print(df)\n"
   ]
  },
  {
   "cell_type": "code",
   "execution_count": 13,
   "metadata": {},
   "outputs": [
    {
     "name": "stdout",
     "output_type": "stream",
     "text": [
      "shape: (1, 2)\n",
      "┌──────────┬──────────┐\n",
      "│ random   ┆ random2  │\n",
      "│ ---      ┆ ---      │\n",
      "│ f64      ┆ f64      │\n",
      "╞══════════╪══════════╡\n",
      "│ 2.624589 ┆ 2.918206 │\n",
      "└──────────┴──────────┘\n"
     ]
    }
   ],
   "source": [
    "df2 = df[\n",
    "    [\n",
    "        # pl.sum(\"random\").alias(\"sum_function\"),\n",
    "        # pl.sum(pl.Float64),\n",
    "        pl.all()\n",
    "        .exclude([\"nrs\", \"names\", \"groups\"])\n",
    "        .sum()\n",
    "        # pl.sum(\"^random.*$\")\n",
    "    ]\n",
    "]\n",
    "print(df2)\n"
   ]
  },
  {
   "cell_type": "code",
   "execution_count": 14,
   "metadata": {},
   "outputs": [
    {
     "name": "stdout",
     "output_type": "stream",
     "text": [
      "shape: (1, 2)\n",
      "┌──────────────┬────────────────┐\n",
      "│ count_method ┆ count_function │\n",
      "│ ---          ┆ ---            │\n",
      "│ u32          ┆ u32            │\n",
      "╞══════════════╪════════════════╡\n",
      "│ 6            ┆ 6              │\n",
      "└──────────────┴────────────────┘\n"
     ]
    }
   ],
   "source": [
    "df3 = df[\n",
    "    [\n",
    "        pl.col(\"random\").count().alias(\"count_method\"),\n",
    "        pl.count(\"random\").alias(\"count_function\"),\n",
    "    ]\n",
    "]\n",
    "print(df3)\n"
   ]
  },
  {
   "cell_type": "code",
   "execution_count": 17,
   "metadata": {},
   "outputs": [
    {
     "name": "stdout",
     "output_type": "stream",
     "text": [
      "shape: (6, 1)\n",
      "┌─────────────────┐\n",
      "│ binary_function │\n",
      "│ ---             │\n",
      "│ f64             │\n",
      "╞═════════════════╡\n",
      "│ 2.620768        │\n",
      "├╌╌╌╌╌╌╌╌╌╌╌╌╌╌╌╌╌┤\n",
      "│ 0.0             │\n",
      "├╌╌╌╌╌╌╌╌╌╌╌╌╌╌╌╌╌┤\n",
      "│ 4.476355        │\n",
      "├╌╌╌╌╌╌╌╌╌╌╌╌╌╌╌╌╌┤\n",
      "│ 0.0             │\n",
      "├╌╌╌╌╌╌╌╌╌╌╌╌╌╌╌╌╌┤\n",
      "│ 0.247774        │\n",
      "├╌╌╌╌╌╌╌╌╌╌╌╌╌╌╌╌╌┤\n",
      "│ 0.0             │\n",
      "└─────────────────┘\n"
     ]
    }
   ],
   "source": [
    "df4 = df.select(\n",
    "    [\n",
    "        pl.when(pl.col(\"random\") > 0.5)\n",
    "        .then(0)\n",
    "        .otherwise(pl.col(\"random\") * pl.sum(\"nrs\"))\n",
    "        .alias(\"binary_function\")\n",
    "    ]\n",
    ")\n",
    "print(df4)\n"
   ]
  },
  {
   "cell_type": "code",
   "execution_count": 46,
   "metadata": {},
   "outputs": [
    {
     "name": "stdout",
     "output_type": "stream",
     "text": [
      "shape: (6, 6)\n",
      "┌──────┬───────┬──────────┬──────────┬────────┬───────────────────┐\n",
      "│ nrs  ┆ names ┆ random   ┆ random2  ┆ groups ┆ names_transformed │\n",
      "│ ---  ┆ ---   ┆ ---      ┆ ---      ┆ ---    ┆ ---               │\n",
      "│ i64  ┆ str   ┆ f64      ┆ f64      ┆ str    ┆ str               │\n",
      "╞══════╪═══════╪══════════╪══════════╪════════╪═══════════════════╡\n",
      "│ 1    ┆ foo   ┆ 0.154163 ┆ 0.900715 ┆ A      ┆ 999               │\n",
      "├╌╌╌╌╌╌┼╌╌╌╌╌╌╌┼╌╌╌╌╌╌╌╌╌╌┼╌╌╌╌╌╌╌╌╌╌┼╌╌╌╌╌╌╌╌┼╌╌╌╌╌╌╌╌╌╌╌╌╌╌╌╌╌╌╌┤\n",
      "│ 2    ┆ ham   ┆ 0.74     ┆ 0.033421 ┆ A      ┆ null              │\n",
      "├╌╌╌╌╌╌┼╌╌╌╌╌╌╌┼╌╌╌╌╌╌╌╌╌╌┼╌╌╌╌╌╌╌╌╌╌┼╌╌╌╌╌╌╌╌┼╌╌╌╌╌╌╌╌╌╌╌╌╌╌╌╌╌╌╌┤\n",
      "│ 3    ┆ spam  ┆ 0.263315 ┆ 0.956949 ┆ B      ┆ 6                 │\n",
      "├╌╌╌╌╌╌┼╌╌╌╌╌╌╌┼╌╌╌╌╌╌╌╌╌╌┼╌╌╌╌╌╌╌╌╌╌┼╌╌╌╌╌╌╌╌┼╌╌╌╌╌╌╌╌╌╌╌╌╌╌╌╌╌╌╌┤\n",
      "│ null ┆ foo   ┆ 0.533739 ┆ 0.137209 ┆ C      ┆ 999               │\n",
      "├╌╌╌╌╌╌┼╌╌╌╌╌╌╌┼╌╌╌╌╌╌╌╌╌╌┼╌╌╌╌╌╌╌╌╌╌┼╌╌╌╌╌╌╌╌┼╌╌╌╌╌╌╌╌╌╌╌╌╌╌╌╌╌╌╌┤\n",
      "│ 5    ┆ foo   ┆ 0.014575 ┆ 0.283828 ┆ A      ┆ 999               │\n",
      "├╌╌╌╌╌╌┼╌╌╌╌╌╌╌┼╌╌╌╌╌╌╌╌╌╌┼╌╌╌╌╌╌╌╌╌╌┼╌╌╌╌╌╌╌╌┼╌╌╌╌╌╌╌╌╌╌╌╌╌╌╌╌╌╌╌┤\n",
      "│ 6    ┆ spam  ┆ 0.918747 ┆ 0.606083 ┆ A      ┆ null              │\n",
      "└──────┴───────┴──────────┴──────────┴────────┴───────────────────┘\n"
     ]
    }
   ],
   "source": [
    "df_conditional = df.select(\n",
    "    [\n",
    "        pl.all(),\n",
    "        pl.when(pl.col(\"names\") == \"foo\")\n",
    "        .then(999)\n",
    "        # .when(pl.col(\"names\") == \"ham\")\n",
    "        # .then(pl.col(\"nrs\") * pl.col(\"random\"))\n",
    "        .when((pl.col(\"names\") == \"spam\") & (pl.col(\"nrs\") < 4))\n",
    "        .then(pl.col(\"nrs\") * 2)\n",
    "        .otherwise(\"other\")\n",
    "        .alias(\"names_transformed\"),\n",
    "    ]\n",
    ")\n",
    "\n",
    "print(df_conditional)\n"
   ]
  },
  {
   "cell_type": "code",
   "execution_count": 8,
   "metadata": {},
   "outputs": [
    {
     "name": "stdout",
     "output_type": "stream",
     "text": [
      "shape: (6, 5)\n",
      "┌──────┬───────┬────────┬────────────────────────────┬────────────────────────┐\n",
      "│ nrs  ┆ names ┆ groups ┆ names/groups               ┆ unique_names/groups    │\n",
      "│ ---  ┆ ---   ┆ ---    ┆ ---                        ┆ ---                    │\n",
      "│ i64  ┆ str   ┆ str    ┆ list [str]                 ┆ list [str]             │\n",
      "╞══════╪═══════╪════════╪════════════════════════════╪════════════════════════╡\n",
      "│ 1    ┆ foo   ┆ A      ┆ [\"foo\", \"ham\", ... \"spam\"] ┆ [\"ham\", \"spam\", \"foo\"] │\n",
      "├╌╌╌╌╌╌┼╌╌╌╌╌╌╌┼╌╌╌╌╌╌╌╌┼╌╌╌╌╌╌╌╌╌╌╌╌╌╌╌╌╌╌╌╌╌╌╌╌╌╌╌╌┼╌╌╌╌╌╌╌╌╌╌╌╌╌╌╌╌╌╌╌╌╌╌╌╌┤\n",
      "│ 2    ┆ ham   ┆ A      ┆ [\"foo\", \"ham\", ... \"spam\"] ┆ [\"ham\", \"spam\", \"foo\"] │\n",
      "├╌╌╌╌╌╌┼╌╌╌╌╌╌╌┼╌╌╌╌╌╌╌╌┼╌╌╌╌╌╌╌╌╌╌╌╌╌╌╌╌╌╌╌╌╌╌╌╌╌╌╌╌┼╌╌╌╌╌╌╌╌╌╌╌╌╌╌╌╌╌╌╌╌╌╌╌╌┤\n",
      "│ 3    ┆ spam  ┆ B      ┆ [\"spam\"]                   ┆ [\"spam\"]               │\n",
      "├╌╌╌╌╌╌┼╌╌╌╌╌╌╌┼╌╌╌╌╌╌╌╌┼╌╌╌╌╌╌╌╌╌╌╌╌╌╌╌╌╌╌╌╌╌╌╌╌╌╌╌╌┼╌╌╌╌╌╌╌╌╌╌╌╌╌╌╌╌╌╌╌╌╌╌╌╌┤\n",
      "│ null ┆ foo   ┆ C      ┆ [\"foo\"]                    ┆ [\"foo\"]                │\n",
      "├╌╌╌╌╌╌┼╌╌╌╌╌╌╌┼╌╌╌╌╌╌╌╌┼╌╌╌╌╌╌╌╌╌╌╌╌╌╌╌╌╌╌╌╌╌╌╌╌╌╌╌╌┼╌╌╌╌╌╌╌╌╌╌╌╌╌╌╌╌╌╌╌╌╌╌╌╌┤\n",
      "│ 5    ┆ foo   ┆ A      ┆ [\"foo\", \"ham\", ... \"spam\"] ┆ [\"ham\", \"spam\", \"foo\"] │\n",
      "├╌╌╌╌╌╌┼╌╌╌╌╌╌╌┼╌╌╌╌╌╌╌╌┼╌╌╌╌╌╌╌╌╌╌╌╌╌╌╌╌╌╌╌╌╌╌╌╌╌╌╌╌┼╌╌╌╌╌╌╌╌╌╌╌╌╌╌╌╌╌╌╌╌╌╌╌╌┤\n",
      "│ 6    ┆ spam  ┆ A      ┆ [\"foo\", \"ham\", ... \"spam\"] ┆ [\"ham\", \"spam\", \"foo\"] │\n",
      "└──────┴───────┴────────┴────────────────────────────┴────────────────────────┘\n"
     ]
    }
   ],
   "source": [
    "df5 = df[\n",
    "    [\n",
    "        # pl.all().exclude(\"^random.*$\"),\n",
    "        pl.col(\"*\").exclude(\"^random.*$\"),\n",
    "        pl.col(\"names\").list().over(\"groups\").alias(\"names/groups\"),\n",
    "        pl.col(\"names\").unique().over(\"groups\").alias(\"unique_names/groups\"),\n",
    "    ]\n",
    "]\n",
    "print(df5)\n"
   ]
  },
  {
   "cell_type": "code",
   "execution_count": null,
   "metadata": {},
   "outputs": [],
   "source": []
  },
  {
   "cell_type": "code",
   "execution_count": 59,
   "metadata": {},
   "outputs": [
    {
     "name": "stdout",
     "output_type": "stream",
     "text": [
      "shape: (6, 5)\n",
      "┌──────┬───────┬──────────┬──────────┬────────┐\n",
      "│ nrs  ┆ names ┆ random   ┆ random2  ┆ groups │\n",
      "│ ---  ┆ ---   ┆ ---      ┆ ---      ┆ ---    │\n",
      "│ i64  ┆ str   ┆ f64      ┆ f64      ┆ str    │\n",
      "╞══════╪═══════╪══════════╪══════════╪════════╡\n",
      "│ 1    ┆ foo   ┆ 0.154163 ┆ 0.900715 ┆ A      │\n",
      "├╌╌╌╌╌╌┼╌╌╌╌╌╌╌┼╌╌╌╌╌╌╌╌╌╌┼╌╌╌╌╌╌╌╌╌╌┼╌╌╌╌╌╌╌╌┤\n",
      "│ 2    ┆ ham   ┆ 0.74     ┆ 0.033421 ┆ A      │\n",
      "├╌╌╌╌╌╌┼╌╌╌╌╌╌╌┼╌╌╌╌╌╌╌╌╌╌┼╌╌╌╌╌╌╌╌╌╌┼╌╌╌╌╌╌╌╌┤\n",
      "│ 3    ┆ spam  ┆ 0.263315 ┆ 0.956949 ┆ B      │\n",
      "├╌╌╌╌╌╌┼╌╌╌╌╌╌╌┼╌╌╌╌╌╌╌╌╌╌┼╌╌╌╌╌╌╌╌╌╌┼╌╌╌╌╌╌╌╌┤\n",
      "│ null ┆ foo   ┆ 0.533739 ┆ 0.137209 ┆ C      │\n",
      "├╌╌╌╌╌╌┼╌╌╌╌╌╌╌┼╌╌╌╌╌╌╌╌╌╌┼╌╌╌╌╌╌╌╌╌╌┼╌╌╌╌╌╌╌╌┤\n",
      "│ 5    ┆ foo   ┆ 0.014575 ┆ 0.283828 ┆ A      │\n",
      "├╌╌╌╌╌╌┼╌╌╌╌╌╌╌┼╌╌╌╌╌╌╌╌╌╌┼╌╌╌╌╌╌╌╌╌╌┼╌╌╌╌╌╌╌╌┤\n",
      "│ 6    ┆ spam  ┆ 0.918747 ┆ 0.606083 ┆ A      │\n",
      "└──────┴───────┴──────────┴──────────┴────────┘\n"
     ]
    }
   ],
   "source": [
    "import numpy as np\n",
    "\n",
    "np.random.seed(12)\n",
    "\n",
    "df_small = pl.DataFrame(\n",
    "    {\n",
    "        \"nrs\": [1, 2, 3],\n",
    "        \"names\": [\"foo\", \"spam\", \"spam\"],\n",
    "    }\n",
    ")\n",
    "print(df)\n"
   ]
  },
  {
   "cell_type": "code",
   "execution_count": 67,
   "metadata": {},
   "outputs": [
    {
     "name": "stdout",
     "output_type": "stream",
     "text": [
      "shape: (3, 3)\n",
      "┌─────┬───────┬─────────┐\n",
      "│ nrs ┆ names ┆ new_col │\n",
      "│ --- ┆ ---   ┆ ---     │\n",
      "│ i64 ┆ str   ┆ i64     │\n",
      "╞═════╪═══════╪═════════╡\n",
      "│ 1   ┆ foo   ┆ null    │\n",
      "├╌╌╌╌╌┼╌╌╌╌╌╌╌┼╌╌╌╌╌╌╌╌╌┤\n",
      "│ 2   ┆ spam  ┆ 4       │\n",
      "├╌╌╌╌╌┼╌╌╌╌╌╌╌┼╌╌╌╌╌╌╌╌╌┤\n",
      "│ 3   ┆ spam  ┆ null    │\n",
      "└─────┴───────┴─────────┘\n"
     ]
    }
   ],
   "source": [
    "df_conditional = df_small.with_columns(\n",
    "    [\n",
    "        pl.when((pl.col(\"names\") == \"spam\") & (pl.col(\"nrs\") == 2))\n",
    "        .then(pl.col(\"nrs\") * 2)\n",
    "        .otherwise(\"other\")\n",
    "        .alias(\"new_col\"),\n",
    "    ]\n",
    ")\n",
    "\n",
    "print(df_conditional)\n"
   ]
  },
  {
   "cell_type": "code",
   "execution_count": 69,
   "metadata": {},
   "outputs": [
    {
     "data": {
      "text/plain": [
       "'0.12.22'"
      ]
     },
     "execution_count": 69,
     "metadata": {},
     "output_type": "execute_result"
    }
   ],
   "source": [
    "pl.version()"
   ]
  },
  {
   "cell_type": "code",
   "execution_count": null,
   "metadata": {},
   "outputs": [],
   "source": []
  }
 ],
 "metadata": {
  "interpreter": {
   "hash": "8db271cf0e2aa3a23579e2fc91d788dc89ec531a8f712e4c0fb8154048a60a48"
  },
  "kernelspec": {
   "display_name": "Python 3.9.6 64-bit ('.venv': poetry)",
   "language": "python",
   "name": "python3"
  },
  "language_info": {
   "codemirror_mode": {
    "name": "ipython",
    "version": 3
   },
   "file_extension": ".py",
   "mimetype": "text/x-python",
   "name": "python",
   "nbconvert_exporter": "python",
   "pygments_lexer": "ipython3",
   "version": "3.9.9"
  },
  "orig_nbformat": 4
 },
 "nbformat": 4,
 "nbformat_minor": 2
}
