{
 "cells": [
  {
   "cell_type": "markdown",
   "metadata": {},
   "source": [
    "# Polars"
   ]
  },
  {
   "cell_type": "code",
   "execution_count": 3,
   "metadata": {},
   "outputs": [],
   "source": [
    "import polars as pl"
   ]
  },
  {
   "cell_type": "markdown",
   "metadata": {},
   "source": [
    "### Load Data"
   ]
  },
  {
   "cell_type": "code",
   "execution_count": 4,
   "metadata": {},
   "outputs": [],
   "source": [
    "DATA_DIR = \"../data/dota\""
   ]
  },
  {
   "cell_type": "code",
   "execution_count": 5,
   "metadata": {},
   "outputs": [],
   "source": [
    "pl_match = pl.read_csv(f\"{DATA_DIR}/match.csv\")\n",
    "pl_cluster_regions = pl.read_csv(f\"{DATA_DIR}/cluster_regions.csv\")\n",
    "pl_purchase_log = pl.read_csv(f\"{DATA_DIR}/purchase_log.csv\")\n",
    "pl_item_id_names = pl.read_csv(f\"{DATA_DIR}/item_ids.csv\")\n",
    "pl_players = pl.read_csv(f\"{DATA_DIR}/players.csv\")"
   ]
  },
  {
   "cell_type": "code",
   "execution_count": 6,
   "metadata": {},
   "outputs": [],
   "source": [
    "# add region names to match data\n",
    "\n",
    "match_with_region = pl_match.join(pl_cluster_regions, how=\"left\", on=\"cluster\").drop(\"cluster\")"
   ]
  },
  {
   "cell_type": "code",
   "execution_count": 7,
   "metadata": {},
   "outputs": [
    {
     "data": {
      "text/html": [
       "<div>\n",
       "<style scoped>\n",
       "    .dataframe tbody tr th:only-of-type {\n",
       "        vertical-align: middle;\n",
       "    }\n",
       "\n",
       "    .dataframe tbody tr th {\n",
       "        vertical-align: top;\n",
       "    }\n",
       "\n",
       "    .dataframe thead th {\n",
       "        text-align: right;\n",
       "    }\n",
       "</style>\n",
       "<table border=\"1 \"class=\"dataframe \">\n",
       "<thead>\n",
       "<tr>\n",
       "<th>\n",
       "match_id\n",
       "</th>\n",
       "<th>\n",
       "player_slot\n",
       "</th>\n",
       "<th>\n",
       "purchases\n",
       "</th>\n",
       "</tr>\n",
       "<tr>\n",
       "<td>\n",
       "i64\n",
       "</td>\n",
       "<td>\n",
       "i64\n",
       "</td>\n",
       "<td>\n",
       "object\n",
       "</td>\n",
       "</tr>\n",
       "</thead>\n",
       "<tbody>\n",
       "<tr>\n",
       "<td>\n",
       "30215\n",
       "</td>\n",
       "<td>\n",
       "0\n",
       "</td>\n",
       "<td>\n",
       "{'yasha': [1822], 'quelling_blade': [-75], 'diffusal_blade_2': [1601], 'reaver': [2232], 'vanguard': [612], 'tango': [-74], 'flask': [-74], 'tpscroll': [1599], 'robe': [1077], 'ring_of_health': [228], 'demon_edge': [2771], 'phase_boots': [672], 'diffusal_blade': [1169], 'boots': [296], 'ultimate_orb': [1438], 'boots_of_elves': [1691], 'magic_stick': [43], 'blade_of_alacrity': [769, 975, 1640], 'vitality_booster': [584, 2513], 'blades_of_attack': [625, 672], 'manta': [1952], 'heart': [2528], 'stout_shield': [422]}\n",
       "</td>\n",
       "</tr>\n",
       "<tr>\n",
       "<td>\n",
       "34423\n",
       "</td>\n",
       "<td>\n",
       "129\n",
       "</td>\n",
       "<td>\n",
       "{'ring_of_basilius': [207], 'belt_of_strength': [1235], 'branches': [-53, -53, 514], 'black_king_bar': [2672], 'ancient_janggo': [895], 'mithril_hammer': [2594], 'ring_of_protection': [207], 'magic_wand': [540], 'tpscroll': [333, 515, 790, 1050, 1234, 1699, 1699, 2045, 2204, 2265], 'robe': [793], 'monkey_king_bar': [2170], 'bottle': [98], 'flask': [10], 'magic_stick': [332], 'javelin': [1901, 2157], 'ogre_axe': [1235, 2594], 'bracer': [786], 'sange': [1307], 'phase_boots': [677], 'demon_edge': [1734], 'sange_and_yasha': [1497], 'wraith_band': [-61], 'boots': [310], 'boots_of_elves': [1497], 'gauntlets': [786], 'sobi_mask': [148], 'blades_of_attack': [648, 648], 'yasha': [1497], 'circlet': [-61, 514, 786], 'slippers': [-61], 'ring_of_aquila': [236], 'blade_of_alacrity': [1497]}\n",
       "</td>\n",
       "</tr>\n",
       "<tr>\n",
       "<td>\n",
       "5010\n",
       "</td>\n",
       "<td>\n",
       "3\n",
       "</td>\n",
       "<td>\n",
       "{'magic_stick': [204], 'broadsword': [1043], 'blink': [2105], 'tango': [-78], 'travel_boots': [801], 'bottle': [558], 'tpscroll': [329, 559, 687], 'robe': [1270], 'magic_wand': [315], 'smoke_of_deceit': [561, 807], 'urn_of_shadows': [315], 'ward_observer': [1243], 'branches': [-79, -79], 'blade_of_alacrity': [2001], 'circlet': [204], 'yasha': [2001], 'gauntlets': [-80, -80], 'boots': [277], 'blade_mail': [1280], 'boots_of_elves': [2001], 'sobi_mask': [140], 'chainmail': [1188], 'clarity': [-76]}\n",
       "</td>\n",
       "</tr>\n",
       "<tr>\n",
       "<td>\n",
       "49650\n",
       "</td>\n",
       "<td>\n",
       "132\n",
       "</td>\n",
       "<td>\n",
       "{'black_king_bar': [1276], 'circlet': [-74], 'desolator': [1001], 'slippers': [-74], 'blades_of_attack': [223, 353, 2742], 'lesser_crit': [2742], 'ogre_axe': [1088], 'assault': [2459], 'hyperstone': [2192], 'wraith_band': [-74], 'boots': [189], 'phase_boots': [379], 'chainmail': [2357], 'tpscroll': [235, 355, 496, 682, 1020, 1296, 1317, 1803, 2143, 2493, 2863], 'blink': [1742], 'broadsword': [2742], 'platemail': [2409], 'bottle': [99], 'mithril_hammer': [751, 927, 1238]}\n",
       "</td>\n",
       "</tr>\n",
       "<tr>\n",
       "<td>\n",
       "7474\n",
       "</td>\n",
       "<td>\n",
       "132\n",
       "</td>\n",
       "<td>\n",
       "{'dagon_3': [2697], 'point_booster': [1295], 'dagon': [2495, 2507], 'blades_of_attack': [1043, 1043], 'staff_of_wizardry': [1490, 1873, 2495, 2507], 'ward_observer': [1715], 'ultimate_scepter': [1709], 'tango': [-79], 'tpscroll': [314, 749, 945, 1882, 2124], 'mantle': [2495, 2507], 'dagon_4': [2809], 'boots': [888], 'void_stone': [2174], 'sobi_mask': [2048], 'phase_boots': [1043], 'dagon_2': [2497, 2507], 'ogre_axe': [1345], 'clarity': [-77, -76], 'null_talisman': [2495, 2507], 'gloves': [-82], 'branches': [-81, -81], 'blade_of_alacrity': [1708], 'cyclone': [2301], 'circlet': [2495, 2507], 'dagon_5': [2819], 'hand_of_midas': [729]}\n",
       "</td>\n",
       "</tr>\n",
       "</tbody>\n",
       "</table>\n",
       "</div>"
      ],
      "text/plain": [
       "shape: (5, 3)\n",
       "┌──────────┬─────────────┬─────────────────────────────────────┐\n",
       "│ match_id ┆ player_slot ┆ purchases                           │\n",
       "│ ---      ┆ ---         ┆ ---                                 │\n",
       "│ i64      ┆ i64         ┆ object                              │\n",
       "╞══════════╪═════════════╪═════════════════════════════════════╡\n",
       "│ 30215    ┆ 0           ┆ {'yasha': [1822], 'quelling_blad... │\n",
       "├╌╌╌╌╌╌╌╌╌╌┼╌╌╌╌╌╌╌╌╌╌╌╌╌┼╌╌╌╌╌╌╌╌╌╌╌╌╌╌╌╌╌╌╌╌╌╌╌╌╌╌╌╌╌╌╌╌╌╌╌╌╌┤\n",
       "│ 34423    ┆ 129         ┆ {'ring_of_basilius': [207], 'bel... │\n",
       "├╌╌╌╌╌╌╌╌╌╌┼╌╌╌╌╌╌╌╌╌╌╌╌╌┼╌╌╌╌╌╌╌╌╌╌╌╌╌╌╌╌╌╌╌╌╌╌╌╌╌╌╌╌╌╌╌╌╌╌╌╌╌┤\n",
       "│ 5010     ┆ 3           ┆ {'magic_stick': [204], 'broadswo... │\n",
       "├╌╌╌╌╌╌╌╌╌╌┼╌╌╌╌╌╌╌╌╌╌╌╌╌┼╌╌╌╌╌╌╌╌╌╌╌╌╌╌╌╌╌╌╌╌╌╌╌╌╌╌╌╌╌╌╌╌╌╌╌╌╌┤\n",
       "│ 49650    ┆ 132         ┆ {'black_king_bar': [1276], 'circ... │\n",
       "├╌╌╌╌╌╌╌╌╌╌┼╌╌╌╌╌╌╌╌╌╌╌╌╌┼╌╌╌╌╌╌╌╌╌╌╌╌╌╌╌╌╌╌╌╌╌╌╌╌╌╌╌╌╌╌╌╌╌╌╌╌╌┤\n",
       "│ 7474     ┆ 132         ┆ {'dagon_3': [2697], 'point_boost... │\n",
       "└──────────┴─────────────┴─────────────────────────────────────┘"
      ]
     },
     "execution_count": 7,
     "metadata": {},
     "output_type": "execute_result"
    }
   ],
   "source": [
    "# add item names to item purchases\n",
    "\n",
    "purchases_with_item_names = (\n",
    "    pl_purchase_log\n",
    "    .join(pl_item_id_names, how=\"left\", on=\"item_id\")\n",
    "    .drop(\"item_id\")\n",
    "    .groupby([\"match_id\", \"player_slot\", \"item_name\"]).agg(pl.col(\"time\").list().keep_name())\n",
    "    .groupby([\"match_id\", \"player_slot\"]).agg(\n",
    "        [\n",
    "            pl.apply(\n",
    "                [pl.col(\"item_name\"), pl.col(\"time\")],\n",
    "                lambda s: dict(zip(s[0], s[1].to_list())),\n",
    "            ).alias(\"purchases\")\n",
    "        ]\n",
    "    )\n",
    ")\n",
    "\n",
    "purchases_with_item_names.head()"
   ]
  },
  {
   "cell_type": "code",
   "execution_count": 8,
   "metadata": {},
   "outputs": [
    {
     "name": "stdout",
     "output_type": "stream",
     "text": [
      "shape: (318787, 67)\n",
      "┌───────┬──────────┬─────────┬───────────┬─────┬───────────┬────────────┬────────────┬─────────────┐\n",
      "│ match ┆ account_ ┆ hero_id ┆ player_sl ┆ ... ┆ radiant_w ┆ negative_v ┆ positive_v ┆ region      │\n",
      "│ _id   ┆ id       ┆ ---     ┆ ot        ┆     ┆ in        ┆ otes       ┆ otes       ┆ ---         │\n",
      "│ ---   ┆ ---      ┆ i64     ┆ ---       ┆     ┆ ---       ┆ ---        ┆ ---        ┆ str         │\n",
      "│ i64   ┆ i64      ┆         ┆ i64       ┆     ┆ bool      ┆ i64        ┆ i64        ┆             │\n",
      "╞═══════╪══════════╪═════════╪═══════════╪═════╪═══════════╪════════════╪════════════╪═════════════╡\n",
      "│ 34423 ┆ 3175     ┆ 9       ┆ 129       ┆ ... ┆ true      ┆ 0          ┆ 0          ┆ SINGAPORE   │\n",
      "├╌╌╌╌╌╌╌┼╌╌╌╌╌╌╌╌╌╌┼╌╌╌╌╌╌╌╌╌┼╌╌╌╌╌╌╌╌╌╌╌┼╌╌╌╌╌┼╌╌╌╌╌╌╌╌╌╌╌┼╌╌╌╌╌╌╌╌╌╌╌╌┼╌╌╌╌╌╌╌╌╌╌╌╌┼╌╌╌╌╌╌╌╌╌╌╌╌╌┤\n",
      "│ 49650 ┆ 10811    ┆ 46      ┆ 132       ┆ ... ┆ false     ┆ 0          ┆ 0          ┆ SINGAPORE   │\n",
      "├╌╌╌╌╌╌╌┼╌╌╌╌╌╌╌╌╌╌┼╌╌╌╌╌╌╌╌╌┼╌╌╌╌╌╌╌╌╌╌╌┼╌╌╌╌╌┼╌╌╌╌╌╌╌╌╌╌╌┼╌╌╌╌╌╌╌╌╌╌╌╌┼╌╌╌╌╌╌╌╌╌╌╌╌┼╌╌╌╌╌╌╌╌╌╌╌╌╌┤\n",
      "│ 37224 ┆ 128519   ┆ 44      ┆ 129       ┆ ... ┆ true      ┆ 0          ┆ 0          ┆ STOCKHOLM   │\n",
      "├╌╌╌╌╌╌╌┼╌╌╌╌╌╌╌╌╌╌┼╌╌╌╌╌╌╌╌╌┼╌╌╌╌╌╌╌╌╌╌╌┼╌╌╌╌╌┼╌╌╌╌╌╌╌╌╌╌╌┼╌╌╌╌╌╌╌╌╌╌╌╌┼╌╌╌╌╌╌╌╌╌╌╌╌┼╌╌╌╌╌╌╌╌╌╌╌╌╌┤\n",
      "│ 25766 ┆ 96643    ┆ 1       ┆ 128       ┆ ... ┆ true      ┆ 0          ┆ 0          ┆ AUSTRIA     │\n",
      "├╌╌╌╌╌╌╌┼╌╌╌╌╌╌╌╌╌╌┼╌╌╌╌╌╌╌╌╌┼╌╌╌╌╌╌╌╌╌╌╌┼╌╌╌╌╌┼╌╌╌╌╌╌╌╌╌╌╌┼╌╌╌╌╌╌╌╌╌╌╌╌┼╌╌╌╌╌╌╌╌╌╌╌╌┼╌╌╌╌╌╌╌╌╌╌╌╌╌┤\n",
      "│ ...   ┆ ...      ┆ ...     ┆ ...       ┆ ... ┆ ...       ┆ ...        ┆ ...        ┆ ...         │\n",
      "├╌╌╌╌╌╌╌┼╌╌╌╌╌╌╌╌╌╌┼╌╌╌╌╌╌╌╌╌┼╌╌╌╌╌╌╌╌╌╌╌┼╌╌╌╌╌┼╌╌╌╌╌╌╌╌╌╌╌┼╌╌╌╌╌╌╌╌╌╌╌╌┼╌╌╌╌╌╌╌╌╌╌╌╌┼╌╌╌╌╌╌╌╌╌╌╌╌╌┤\n",
      "│ 41441 ┆ 31104    ┆ 82      ┆ 0         ┆ ... ┆ true      ┆ 0          ┆ 0          ┆ US WEST     │\n",
      "├╌╌╌╌╌╌╌┼╌╌╌╌╌╌╌╌╌╌┼╌╌╌╌╌╌╌╌╌┼╌╌╌╌╌╌╌╌╌╌╌┼╌╌╌╌╌┼╌╌╌╌╌╌╌╌╌╌╌┼╌╌╌╌╌╌╌╌╌╌╌╌┼╌╌╌╌╌╌╌╌╌╌╌╌┼╌╌╌╌╌╌╌╌╌╌╌╌╌┤\n",
      "│ 43133 ┆ 142466   ┆ 101     ┆ 132       ┆ ... ┆ false     ┆ 0          ┆ 0          ┆ EUROPE      │\n",
      "├╌╌╌╌╌╌╌┼╌╌╌╌╌╌╌╌╌╌┼╌╌╌╌╌╌╌╌╌┼╌╌╌╌╌╌╌╌╌╌╌┼╌╌╌╌╌┼╌╌╌╌╌╌╌╌╌╌╌┼╌╌╌╌╌╌╌╌╌╌╌╌┼╌╌╌╌╌╌╌╌╌╌╌╌┼╌╌╌╌╌╌╌╌╌╌╌╌╌┤\n",
      "│ 34622 ┆ 121422   ┆ 4       ┆ 132       ┆ ... ┆ false     ┆ 0          ┆ 0          ┆ BRAZIL      │\n",
      "├╌╌╌╌╌╌╌┼╌╌╌╌╌╌╌╌╌╌┼╌╌╌╌╌╌╌╌╌┼╌╌╌╌╌╌╌╌╌╌╌┼╌╌╌╌╌┼╌╌╌╌╌╌╌╌╌╌╌┼╌╌╌╌╌╌╌╌╌╌╌╌┼╌╌╌╌╌╌╌╌╌╌╌╌┼╌╌╌╌╌╌╌╌╌╌╌╌╌┤\n",
      "│ 49811 ┆ 32952    ┆ 104     ┆ 131       ┆ ... ┆ true      ┆ 0          ┆ 0          ┆ US WEST     │\n",
      "└───────┴──────────┴─────────┴───────────┴─────┴───────────┴────────────┴────────────┴─────────────┘\n"
     ]
    }
   ],
   "source": [
    "# add match and item information to player data\n",
    "\n",
    "pl_final = (pl_players\n",
    "    .filter(pl.col(\"account_id\") != 0)\n",
    "    .join(purchases_with_item_names, on=[\"match_id\", \"player_slot\"])\n",
    "    .join(match_with_region, how=\"left\", on=\"match_id\")\n",
    "    )\n",
    "\n",
    "# drop cols with more than 20% NaN\n",
    "pl_final = pl_final[\n",
    "            :,\n",
    "            [\n",
    "                pl_final[col].null_count() <= 0.2 * pl_final.height\n",
    "                for col in pl_final.columns\n",
    "                if col not in [\"purchases\"]\n",
    "            ]\n",
    "            + [\"purchases\"],\n",
    "        ]\n",
    "\n",
    "print(pl_final)"
   ]
  },
  {
   "cell_type": "markdown",
   "metadata": {},
   "source": [
    "### Analyse the data"
   ]
  },
  {
   "cell_type": "markdown",
   "metadata": {},
   "source": [
    "#### Win rates"
   ]
  },
  {
   "cell_type": "code",
   "execution_count": 9,
   "metadata": {},
   "outputs": [
    {
     "data": {
      "text/html": [
       "<div>\n",
       "<style scoped>\n",
       "    .dataframe tbody tr th:only-of-type {\n",
       "        vertical-align: middle;\n",
       "    }\n",
       "\n",
       "    .dataframe tbody tr th {\n",
       "        vertical-align: top;\n",
       "    }\n",
       "\n",
       "    .dataframe thead th {\n",
       "        text-align: right;\n",
       "    }\n",
       "</style>\n",
       "<table border=\"1 \"class=\"dataframe \">\n",
       "<thead>\n",
       "<tr>\n",
       "<th>\n",
       "statistic\n",
       "</th>\n",
       "<th>\n",
       "value\n",
       "</th>\n",
       "</tr>\n",
       "<tr>\n",
       "<td>\n",
       "str\n",
       "</td>\n",
       "<td>\n",
       "f64\n",
       "</td>\n",
       "</tr>\n",
       "</thead>\n",
       "<tbody>\n",
       "<tr>\n",
       "<td>\n",
       "\"min\"\n",
       "</td>\n",
       "<td>\n",
       "59.0\n",
       "</td>\n",
       "</tr>\n",
       "<tr>\n",
       "<td>\n",
       "\"max\"\n",
       "</td>\n",
       "<td>\n",
       "16037.0\n",
       "</td>\n",
       "</tr>\n",
       "<tr>\n",
       "<td>\n",
       "\"null_count\"\n",
       "</td>\n",
       "<td>\n",
       "0.0\n",
       "</td>\n",
       "</tr>\n",
       "<tr>\n",
       "<td>\n",
       "\"mean\"\n",
       "</td>\n",
       "<td>\n",
       "2461.093294\n",
       "</td>\n",
       "</tr>\n",
       "<tr>\n",
       "<td>\n",
       "\"std\"\n",
       "</td>\n",
       "<td>\n",
       "641.437472\n",
       "</td>\n",
       "</tr>\n",
       "<tr>\n",
       "<td>\n",
       "\"count\"\n",
       "</td>\n",
       "<td>\n",
       "318787.0\n",
       "</td>\n",
       "</tr>\n",
       "</tbody>\n",
       "</table>\n",
       "</div>"
      ],
      "text/plain": [
       "shape: (6, 2)\n",
       "┌────────────┬─────────────┐\n",
       "│ statistic  ┆ value       │\n",
       "│ ---        ┆ ---         │\n",
       "│ str        ┆ f64         │\n",
       "╞════════════╪═════════════╡\n",
       "│ min        ┆ 59.0        │\n",
       "├╌╌╌╌╌╌╌╌╌╌╌╌┼╌╌╌╌╌╌╌╌╌╌╌╌╌┤\n",
       "│ max        ┆ 16037.0     │\n",
       "├╌╌╌╌╌╌╌╌╌╌╌╌┼╌╌╌╌╌╌╌╌╌╌╌╌╌┤\n",
       "│ null_count ┆ 0.0         │\n",
       "├╌╌╌╌╌╌╌╌╌╌╌╌┼╌╌╌╌╌╌╌╌╌╌╌╌╌┤\n",
       "│ mean       ┆ 2461.093294 │\n",
       "├╌╌╌╌╌╌╌╌╌╌╌╌┼╌╌╌╌╌╌╌╌╌╌╌╌╌┤\n",
       "│ std        ┆ 641.437472  │\n",
       "├╌╌╌╌╌╌╌╌╌╌╌╌┼╌╌╌╌╌╌╌╌╌╌╌╌╌┤\n",
       "│ count      ┆ 318787.0    │\n",
       "└────────────┴─────────────┘"
      ]
     },
     "execution_count": 9,
     "metadata": {},
     "output_type": "execute_result"
    }
   ],
   "source": [
    "pl_final[\"duration\"].describe()"
   ]
  },
  {
   "cell_type": "code",
   "execution_count": null,
   "metadata": {},
   "outputs": [],
   "source": [
    "pl_final"
   ]
  }
 ],
 "metadata": {
  "interpreter": {
   "hash": "215c38a1ffab15fe048699485553ca3be509ace404ed238348fe28771b453818"
  },
  "kernelspec": {
   "display_name": "Python 3.9.9 ('.venv': poetry)",
   "language": "python",
   "name": "python3"
  },
  "language_info": {
   "codemirror_mode": {
    "name": "ipython",
    "version": 3
   },
   "file_extension": ".py",
   "mimetype": "text/x-python",
   "name": "python",
   "nbconvert_exporter": "python",
   "pygments_lexer": "ipython3",
   "version": "3.9.9"
  },
  "orig_nbformat": 4
 },
 "nbformat": 4,
 "nbformat_minor": 2
}
