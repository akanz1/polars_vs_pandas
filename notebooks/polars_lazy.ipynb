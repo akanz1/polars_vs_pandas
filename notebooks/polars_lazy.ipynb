{
 "cells": [
  {
   "cell_type": "markdown",
   "metadata": {},
   "source": [
    "# Polars"
   ]
  },
  {
   "cell_type": "code",
   "execution_count": 1,
   "metadata": {},
   "outputs": [],
   "source": [
    "import polars as pl\n"
   ]
  },
  {
   "cell_type": "markdown",
   "metadata": {},
   "source": [
    "### Load Data"
   ]
  },
  {
   "cell_type": "code",
   "execution_count": 2,
   "metadata": {},
   "outputs": [],
   "source": [
    "DATA_DIR = \"../data/dota\"\n"
   ]
  },
  {
   "cell_type": "code",
   "execution_count": 3,
   "metadata": {},
   "outputs": [],
   "source": [
    "pl_match = pl.scan_csv(f\"{DATA_DIR}/match.csv\")\n",
    "pl_cluster_regions = pl.scan_csv(f\"{DATA_DIR}/cluster_regions.csv\")\n",
    "pl_purchase_log = pl.scan_csv(f\"{DATA_DIR}/purchase_log.csv\")\n",
    "pl_item_id_names = pl.scan_csv(f\"{DATA_DIR}/item_ids.csv\")\n",
    "pl_players = pl.scan_csv(f\"{DATA_DIR}/players.csv\")\n"
   ]
  },
  {
   "cell_type": "code",
   "execution_count": 4,
   "metadata": {},
   "outputs": [],
   "source": [
    "# add region names to match data\n",
    "\n",
    "match_with_region = pl_match.join(pl_cluster_regions, how=\"left\", on=\"cluster\").drop(\n",
    "    \"cluster\"\n",
    ")\n"
   ]
  },
  {
   "cell_type": "code",
   "execution_count": 5,
   "metadata": {},
   "outputs": [],
   "source": [
    "# add item names to item purchases\n",
    "\n",
    "purchases_with_item_names = (\n",
    "    pl_purchase_log.join(pl_item_id_names, how=\"left\", on=\"item_id\")\n",
    "    .drop(\"item_id\")\n",
    "    .groupby([\"match_id\", \"player_slot\", \"item_name\"])\n",
    "    .agg(pl.col(\"time\").list().keep_name())\n",
    "    .groupby([\"match_id\", \"player_slot\"])\n",
    "    .agg(\n",
    "        [\n",
    "            pl.apply(\n",
    "                [pl.col(\"item_name\"), pl.col(\"time\")],\n",
    "                lambda s: dict(zip(s[0], s[1].to_list())),\n",
    "            ).alias(\"purchases\")\n",
    "        ]\n",
    "    )\n",
    ")\n"
   ]
  },
  {
   "cell_type": "code",
   "execution_count": 6,
   "metadata": {},
   "outputs": [],
   "source": [
    "# add match and item information to player data\n",
    "\n",
    "pl_final_lazy = (\n",
    "    pl_players.filter(pl.col(\"account_id\") != 0)\n",
    "    .join(purchases_with_item_names, on=[\"match_id\", \"player_slot\"])\n",
    "    .join(match_with_region, how=\"left\", on=\"match_id\")\n",
    ")\n"
   ]
  },
  {
   "cell_type": "code",
   "execution_count": 7,
   "metadata": {},
   "outputs": [
    {
     "data": {
      "image/svg+xml": "<svg xmlns=\"http://www.w3.org/2000/svg\" xmlns:xlink=\"http://www.w3.org/1999/xlink\" width=\"1350pt\" height=\"695pt\" viewBox=\"0.00 0.00 1349.50 695.00\">\n<g id=\"graph0\" class=\"graph\" transform=\"scale(1 1) rotate(0) translate(4 691)\">\n<title>polars_query</title>\n<polygon fill=\"white\" stroke=\"transparent\" points=\"-4,4 -4,-691 1345.5,-691 1345.5,4 -4,4\"/>\n<!-- JOIN\n &#160;&#160;&#160;&#160;&#160;&#160;&#160;&#160;&#160;&#160;&#160;&#160;&#160;&#160;&#160;&#160;&#160;&#160;&#160;left [col(&quot;match_id&quot;)];\n &#160;&#160;&#160;&#160;&#160;&#160;&#160;&#160;&#160;&#160;&#160;&#160;&#160;&#160;&#160;&#160;&#160;&#160;&#160;right: [col(&quot;match_id&quot;)] [0] -->\n<g id=\"node1\" class=\"node\">\n<title>JOIN\n                    left [col(&quot;match_id&quot;)];\n                    right: [col(&quot;match_id&quot;)] [0]</title>\n<polygon fill=\"none\" stroke=\"black\" points=\"813,-687 519,-687 519,-634 813,-634 813,-687\"/>\n<text text-anchor=\"middle\" x=\"666\" y=\"-671.8\" font-family=\"Times,serif\" font-size=\"14.00\">JOIN</text>\n<text text-anchor=\"middle\" x=\"666\" y=\"-656.8\" font-family=\"Times,serif\" font-size=\"14.00\">                    left [col(&quot;match_id&quot;)];</text>\n<text text-anchor=\"middle\" x=\"666\" y=\"-641.8\" font-family=\"Times,serif\" font-size=\"14.00\">                    right: [col(&quot;match_id&quot;)] [0]</text>\n</g>\n<!-- JOIN\n &#160;&#160;&#160;&#160;&#160;&#160;&#160;&#160;&#160;&#160;&#160;&#160;&#160;&#160;&#160;&#160;&#160;&#160;&#160;left [col(&quot;match_id&quot;), col(&quot;player_slot&quot;)];\n &#160;&#160;&#160;&#160;&#160;&#160;&#160;&#160;&#160;&#160;&#160;&#160;&#160;&#160;&#160;&#160;&#160;&#160;&#160;right: [col(&quot;match_id&quot;), col(&quot;player_slot&quot;)] [1] -->\n<g id=\"node2\" class=\"node\">\n<title>JOIN\n                    left [col(&quot;match_id&quot;), col(&quot;player_slot&quot;)];\n                    right: [col(&quot;match_id&quot;), col(&quot;player_slot&quot;)] [1]</title>\n<polygon fill=\"none\" stroke=\"black\" points=\"709.5,-598 284.5,-598 284.5,-545 709.5,-545 709.5,-598\"/>\n<text text-anchor=\"middle\" x=\"497\" y=\"-582.8\" font-family=\"Times,serif\" font-size=\"14.00\">JOIN</text>\n<text text-anchor=\"middle\" x=\"497\" y=\"-567.8\" font-family=\"Times,serif\" font-size=\"14.00\">                    left [col(&quot;match_id&quot;), col(&quot;player_slot&quot;)];</text>\n<text text-anchor=\"middle\" x=\"497\" y=\"-552.8\" font-family=\"Times,serif\" font-size=\"14.00\">                    right: [col(&quot;match_id&quot;), col(&quot;player_slot&quot;)] [1]</text>\n</g>\n<!-- JOIN\n &#160;&#160;&#160;&#160;&#160;&#160;&#160;&#160;&#160;&#160;&#160;&#160;&#160;&#160;&#160;&#160;&#160;&#160;&#160;left [col(&quot;match_id&quot;)];\n &#160;&#160;&#160;&#160;&#160;&#160;&#160;&#160;&#160;&#160;&#160;&#160;&#160;&#160;&#160;&#160;&#160;&#160;&#160;right: [col(&quot;match_id&quot;)] [0]&#45;&#45;JOIN\n &#160;&#160;&#160;&#160;&#160;&#160;&#160;&#160;&#160;&#160;&#160;&#160;&#160;&#160;&#160;&#160;&#160;&#160;&#160;left [col(&quot;match_id&quot;), col(&quot;player_slot&quot;)];\n &#160;&#160;&#160;&#160;&#160;&#160;&#160;&#160;&#160;&#160;&#160;&#160;&#160;&#160;&#160;&#160;&#160;&#160;&#160;right: [col(&quot;match_id&quot;), col(&quot;player_slot&quot;)] [1] -->\n<g id=\"edge1\" class=\"edge\">\n<title>JOIN\n                    left [col(&quot;match_id&quot;)];\n                    right: [col(&quot;match_id&quot;)] [0]--JOIN\n                    left [col(&quot;match_id&quot;), col(&quot;player_slot&quot;)];\n                    right: [col(&quot;match_id&quot;), col(&quot;player_slot&quot;)] [1]</title>\n<path fill=\"none\" stroke=\"black\" d=\"M616.21,-633.87C594.3,-622.59 568.63,-609.37 546.73,-598.1\"/>\n</g>\n<!-- FAST PROJECTION [(20, 1)] -->\n<g id=\"node11\" class=\"node\">\n<title>FAST PROJECTION [(20, 1)]</title>\n<polygon fill=\"none\" stroke=\"black\" points=\"958.5,-589.5 743.5,-589.5 743.5,-553.5 958.5,-553.5 958.5,-589.5\"/>\n<text text-anchor=\"middle\" x=\"851\" y=\"-567.8\" font-family=\"Times,serif\" font-size=\"14.00\">FAST PROJECTION [(20, 1)]</text>\n</g>\n<!-- JOIN\n &#160;&#160;&#160;&#160;&#160;&#160;&#160;&#160;&#160;&#160;&#160;&#160;&#160;&#160;&#160;&#160;&#160;&#160;&#160;left [col(&quot;match_id&quot;)];\n &#160;&#160;&#160;&#160;&#160;&#160;&#160;&#160;&#160;&#160;&#160;&#160;&#160;&#160;&#160;&#160;&#160;&#160;&#160;right: [col(&quot;match_id&quot;)] [0]&#45;&#45;FAST PROJECTION [(20, 1)] -->\n<g id=\"edge10\" class=\"edge\">\n<title>JOIN\n                    left [col(&quot;match_id&quot;)];\n                    right: [col(&quot;match_id&quot;)] [0]--FAST PROJECTION [(20, 1)]</title>\n<path fill=\"none\" stroke=\"black\" d=\"M720.51,-633.87C750.88,-619.58 787.87,-602.19 814.71,-589.57\"/>\n</g>\n<!-- CSV SCAN ../data/dota/players.csv;\nπ */73;\nσ (col(&quot;account_id&quot;)) != (0...\n[(20, 2)] -->\n<g id=\"node3\" class=\"node\">\n<title>CSV SCAN ../data/dota/players.csv;\nπ */73;\nσ (col(&quot;account_id&quot;)) != (0...\n[(20, 2)]</title>\n<polygon fill=\"none\" stroke=\"black\" points=\"268,-509 0,-509 0,-441 268,-441 268,-509\"/>\n<text text-anchor=\"middle\" x=\"134\" y=\"-493.8\" font-family=\"Times,serif\" font-size=\"14.00\">CSV SCAN ../data/dota/players.csv;</text>\n<text text-anchor=\"middle\" x=\"134\" y=\"-478.8\" font-family=\"Times,serif\" font-size=\"14.00\">π */73;</text>\n<text text-anchor=\"middle\" x=\"134\" y=\"-463.8\" font-family=\"Times,serif\" font-size=\"14.00\">σ (col(&quot;account_id&quot;)) != (0...</text>\n<text text-anchor=\"middle\" x=\"134\" y=\"-448.8\" font-family=\"Times,serif\" font-size=\"14.00\">[(20, 2)]</text>\n</g>\n<!-- JOIN\n &#160;&#160;&#160;&#160;&#160;&#160;&#160;&#160;&#160;&#160;&#160;&#160;&#160;&#160;&#160;&#160;&#160;&#160;&#160;left [col(&quot;match_id&quot;), col(&quot;player_slot&quot;)];\n &#160;&#160;&#160;&#160;&#160;&#160;&#160;&#160;&#160;&#160;&#160;&#160;&#160;&#160;&#160;&#160;&#160;&#160;&#160;right: [col(&quot;match_id&quot;), col(&quot;player_slot&quot;)] [1]&#45;&#45;CSV SCAN ../data/dota/players.csv;\nπ */73;\nσ (col(&quot;account_id&quot;)) != (0...\n[(20, 2)] -->\n<g id=\"edge2\" class=\"edge\">\n<title>JOIN\n                    left [col(&quot;match_id&quot;), col(&quot;player_slot&quot;)];\n                    right: [col(&quot;match_id&quot;), col(&quot;player_slot&quot;)] [1]--CSV SCAN ../data/dota/players.csv;\nπ */73;\nσ (col(&quot;account_id&quot;)) != (0...\n[(20, 2)]</title>\n<path fill=\"none\" stroke=\"black\" d=\"M398.77,-544.93C356.35,-533.89 306.19,-520.83 261,-509.06\"/>\n</g>\n<!-- AGG [col(&quot;item_name&quot;).([col(&quot;time&quot;)]).alias(&quot;purchases&quot;)]\nBY\n[col(&quot;match_id&quot;),col(&quot;player_slot&quot;)] [(30, 2)] -->\n<g id=\"node4\" class=\"node\">\n<title>AGG [col(&quot;item_name&quot;).([col(&quot;time&quot;)]).alias(&quot;purchases&quot;)]\nBY\n[col(&quot;match_id&quot;),col(&quot;player_slot&quot;)] [(30, 2)]</title>\n<polygon fill=\"none\" stroke=\"black\" points=\"708,-501.5 286,-501.5 286,-448.5 708,-448.5 708,-501.5\"/>\n<text text-anchor=\"middle\" x=\"497\" y=\"-486.3\" font-family=\"Times,serif\" font-size=\"14.00\">AGG [col(&quot;item_name&quot;).([col(&quot;time&quot;)]).alias(&quot;purchases&quot;)]</text>\n<text text-anchor=\"middle\" x=\"497\" y=\"-471.3\" font-family=\"Times,serif\" font-size=\"14.00\">BY</text>\n<text text-anchor=\"middle\" x=\"497\" y=\"-456.3\" font-family=\"Times,serif\" font-size=\"14.00\">[col(&quot;match_id&quot;),col(&quot;player_slot&quot;)] [(30, 2)]</text>\n</g>\n<!-- JOIN\n &#160;&#160;&#160;&#160;&#160;&#160;&#160;&#160;&#160;&#160;&#160;&#160;&#160;&#160;&#160;&#160;&#160;&#160;&#160;left [col(&quot;match_id&quot;), col(&quot;player_slot&quot;)];\n &#160;&#160;&#160;&#160;&#160;&#160;&#160;&#160;&#160;&#160;&#160;&#160;&#160;&#160;&#160;&#160;&#160;&#160;&#160;right: [col(&quot;match_id&quot;), col(&quot;player_slot&quot;)] [1]&#45;&#45;AGG [col(&quot;item_name&quot;).([col(&quot;time&quot;)]).alias(&quot;purchases&quot;)]\nBY\n[col(&quot;match_id&quot;),col(&quot;player_slot&quot;)] [(30, 2)] -->\n<g id=\"edge3\" class=\"edge\">\n<title>JOIN\n                    left [col(&quot;match_id&quot;), col(&quot;player_slot&quot;)];\n                    right: [col(&quot;match_id&quot;), col(&quot;player_slot&quot;)] [1]--AGG [col(&quot;item_name&quot;).([col(&quot;time&quot;)]).alias(&quot;purchases&quot;)]\nBY\n[col(&quot;match_id&quot;),col(&quot;player_slot&quot;)] [(30, 2)]</title>\n<path fill=\"none\" stroke=\"black\" d=\"M497,-544.68C497,-531.34 497,-515.12 497,-501.79\"/>\n</g>\n<!-- AGG [col(&quot;time&quot;).list().alias(&quot;time&quot;)]\nBY\n[col(&quot;match_id&quot;),col(&quot;player_slot&quot;),col(&quot;item_name&quot;)] [(30, 3)] -->\n<g id=\"node5\" class=\"node\">\n<title>AGG [col(&quot;time&quot;).list().alias(&quot;time&quot;)]\nBY\n[col(&quot;match_id&quot;),col(&quot;player_slot&quot;),col(&quot;item_name&quot;)] [(30, 3)]</title>\n<polygon fill=\"none\" stroke=\"black\" points=\"719.5,-397.5 268.5,-397.5 268.5,-344.5 719.5,-344.5 719.5,-397.5\"/>\n<text text-anchor=\"middle\" x=\"494\" y=\"-382.3\" font-family=\"Times,serif\" font-size=\"14.00\">AGG [col(&quot;time&quot;).list().alias(&quot;time&quot;)]</text>\n<text text-anchor=\"middle\" x=\"494\" y=\"-367.3\" font-family=\"Times,serif\" font-size=\"14.00\">BY</text>\n<text text-anchor=\"middle\" x=\"494\" y=\"-352.3\" font-family=\"Times,serif\" font-size=\"14.00\">[col(&quot;match_id&quot;),col(&quot;player_slot&quot;),col(&quot;item_name&quot;)] [(30, 3)]</text>\n</g>\n<!-- AGG [col(&quot;item_name&quot;).([col(&quot;time&quot;)]).alias(&quot;purchases&quot;)]\nBY\n[col(&quot;match_id&quot;),col(&quot;player_slot&quot;)] [(30, 2)]&#45;&#45;AGG [col(&quot;time&quot;).list().alias(&quot;time&quot;)]\nBY\n[col(&quot;match_id&quot;),col(&quot;player_slot&quot;),col(&quot;item_name&quot;)] [(30, 3)] -->\n<g id=\"edge4\" class=\"edge\">\n<title>AGG [col(&quot;item_name&quot;).([col(&quot;time&quot;)]).alias(&quot;purchases&quot;)]\nBY\n[col(&quot;match_id&quot;),col(&quot;player_slot&quot;)] [(30, 2)]--AGG [col(&quot;time&quot;).list().alias(&quot;time&quot;)]\nBY\n[col(&quot;match_id&quot;),col(&quot;player_slot&quot;),col(&quot;item_name&quot;)] [(30, 3)]</title>\n<path fill=\"none\" stroke=\"black\" d=\"M496.24,-448.26C495.79,-432.8 495.21,-413.19 494.76,-397.73\"/>\n</g>\n<!-- FAST PROJECTION [(30, 4)] -->\n<g id=\"node6\" class=\"node\">\n<title>FAST PROJECTION [(30, 4)]</title>\n<polygon fill=\"none\" stroke=\"black\" points=\"601.5,-301 386.5,-301 386.5,-265 601.5,-265 601.5,-301\"/>\n<text text-anchor=\"middle\" x=\"494\" y=\"-279.3\" font-family=\"Times,serif\" font-size=\"14.00\">FAST PROJECTION [(30, 4)]</text>\n</g>\n<!-- AGG [col(&quot;time&quot;).list().alias(&quot;time&quot;)]\nBY\n[col(&quot;match_id&quot;),col(&quot;player_slot&quot;),col(&quot;item_name&quot;)] [(30, 3)]&#45;&#45;FAST PROJECTION [(30, 4)] -->\n<g id=\"edge5\" class=\"edge\">\n<title>AGG [col(&quot;time&quot;).list().alias(&quot;time&quot;)]\nBY\n[col(&quot;match_id&quot;),col(&quot;player_slot&quot;),col(&quot;item_name&quot;)] [(30, 3)]--FAST PROJECTION [(30, 4)]</title>\n<path fill=\"none\" stroke=\"black\" d=\"M494,-344.2C494,-330.24 494,-313.4 494,-301.08\"/>\n</g>\n<!-- FAST PROJECTION [(30, 5)] -->\n<g id=\"node7\" class=\"node\">\n<title>FAST PROJECTION [(30, 5)]</title>\n<polygon fill=\"none\" stroke=\"black\" points=\"601.5,-229 386.5,-229 386.5,-193 601.5,-193 601.5,-229\"/>\n<text text-anchor=\"middle\" x=\"494\" y=\"-207.3\" font-family=\"Times,serif\" font-size=\"14.00\">FAST PROJECTION [(30, 5)]</text>\n</g>\n<!-- FAST PROJECTION [(30, 4)]&#45;&#45;FAST PROJECTION [(30, 5)] -->\n<g id=\"edge6\" class=\"edge\">\n<title>FAST PROJECTION [(30, 4)]--FAST PROJECTION [(30, 5)]</title>\n<path fill=\"none\" stroke=\"black\" d=\"M494,-264.7C494,-253.85 494,-239.92 494,-229.1\"/>\n</g>\n<!-- JOIN\n &#160;&#160;&#160;&#160;&#160;&#160;&#160;&#160;&#160;&#160;&#160;&#160;&#160;&#160;&#160;&#160;&#160;&#160;&#160;left [col(&quot;item_id&quot;)];\n &#160;&#160;&#160;&#160;&#160;&#160;&#160;&#160;&#160;&#160;&#160;&#160;&#160;&#160;&#160;&#160;&#160;&#160;&#160;right: [col(&quot;item_id&quot;)] [6] -->\n<g id=\"node8\" class=\"node\">\n<title>JOIN\n                    left [col(&quot;item_id&quot;)];\n                    right: [col(&quot;item_id&quot;)] [6]</title>\n<polygon fill=\"none\" stroke=\"black\" points=\"635,-157 353,-157 353,-104 635,-104 635,-157\"/>\n<text text-anchor=\"middle\" x=\"494\" y=\"-141.8\" font-family=\"Times,serif\" font-size=\"14.00\">JOIN</text>\n<text text-anchor=\"middle\" x=\"494\" y=\"-126.8\" font-family=\"Times,serif\" font-size=\"14.00\">                    left [col(&quot;item_id&quot;)];</text>\n<text text-anchor=\"middle\" x=\"494\" y=\"-111.8\" font-family=\"Times,serif\" font-size=\"14.00\">                    right: [col(&quot;item_id&quot;)] [6]</text>\n</g>\n<!-- FAST PROJECTION [(30, 5)]&#45;&#45;JOIN\n &#160;&#160;&#160;&#160;&#160;&#160;&#160;&#160;&#160;&#160;&#160;&#160;&#160;&#160;&#160;&#160;&#160;&#160;&#160;left [col(&quot;item_id&quot;)];\n &#160;&#160;&#160;&#160;&#160;&#160;&#160;&#160;&#160;&#160;&#160;&#160;&#160;&#160;&#160;&#160;&#160;&#160;&#160;right: [col(&quot;item_id&quot;)] [6] -->\n<g id=\"edge7\" class=\"edge\">\n<title>FAST PROJECTION [(30, 5)]--JOIN\n                    left [col(&quot;item_id&quot;)];\n                    right: [col(&quot;item_id&quot;)] [6]</title>\n<path fill=\"none\" stroke=\"black\" d=\"M494,-192.97C494,-182.51 494,-168.9 494,-157.16\"/>\n</g>\n<!-- CSV SCAN ../data/dota/purchase_log.csv;\nπ 4/4;\nσ &#45;\n[(40, 7)] -->\n<g id=\"node9\" class=\"node\">\n<title>CSV SCAN ../data/dota/purchase_log.csv;\nπ 4/4;\nσ -\n[(40, 7)]</title>\n<polygon fill=\"none\" stroke=\"black\" points=\"493.5,-68 184.5,-68 184.5,0 493.5,0 493.5,-68\"/>\n<text text-anchor=\"middle\" x=\"339\" y=\"-52.8\" font-family=\"Times,serif\" font-size=\"14.00\">CSV SCAN ../data/dota/purchase_log.csv;</text>\n<text text-anchor=\"middle\" x=\"339\" y=\"-37.8\" font-family=\"Times,serif\" font-size=\"14.00\">π 4/4;</text>\n<text text-anchor=\"middle\" x=\"339\" y=\"-22.8\" font-family=\"Times,serif\" font-size=\"14.00\">σ -</text>\n<text text-anchor=\"middle\" x=\"339\" y=\"-7.8\" font-family=\"Times,serif\" font-size=\"14.00\">[(40, 7)]</text>\n</g>\n<!-- JOIN\n &#160;&#160;&#160;&#160;&#160;&#160;&#160;&#160;&#160;&#160;&#160;&#160;&#160;&#160;&#160;&#160;&#160;&#160;&#160;left [col(&quot;item_id&quot;)];\n &#160;&#160;&#160;&#160;&#160;&#160;&#160;&#160;&#160;&#160;&#160;&#160;&#160;&#160;&#160;&#160;&#160;&#160;&#160;right: [col(&quot;item_id&quot;)] [6]&#45;&#45;CSV SCAN ../data/dota/purchase_log.csv;\nπ 4/4;\nσ &#45;\n[(40, 7)] -->\n<g id=\"edge8\" class=\"edge\">\n<title>JOIN\n                    left [col(&quot;item_id&quot;)];\n                    right: [col(&quot;item_id&quot;)] [6]--CSV SCAN ../data/dota/purchase_log.csv;\nπ 4/4;\nσ -\n[(40, 7)]</title>\n<path fill=\"none\" stroke=\"black\" d=\"M452.05,-103.93C433.94,-92.89 412.53,-79.83 393.23,-68.06\"/>\n</g>\n<!-- CSV SCAN ../data/dota/item_ids.csv;\nπ 2/2;\nσ &#45;\n[(50, 7)] -->\n<g id=\"node10\" class=\"node\">\n<title>CSV SCAN ../data/dota/item_ids.csv;\nπ 2/2;\nσ -\n[(50, 7)]</title>\n<polygon fill=\"none\" stroke=\"black\" points=\"786.5,-68 511.5,-68 511.5,0 786.5,0 786.5,-68\"/>\n<text text-anchor=\"middle\" x=\"649\" y=\"-52.8\" font-family=\"Times,serif\" font-size=\"14.00\">CSV SCAN ../data/dota/item_ids.csv;</text>\n<text text-anchor=\"middle\" x=\"649\" y=\"-37.8\" font-family=\"Times,serif\" font-size=\"14.00\">π 2/2;</text>\n<text text-anchor=\"middle\" x=\"649\" y=\"-22.8\" font-family=\"Times,serif\" font-size=\"14.00\">σ -</text>\n<text text-anchor=\"middle\" x=\"649\" y=\"-7.8\" font-family=\"Times,serif\" font-size=\"14.00\">[(50, 7)]</text>\n</g>\n<!-- JOIN\n &#160;&#160;&#160;&#160;&#160;&#160;&#160;&#160;&#160;&#160;&#160;&#160;&#160;&#160;&#160;&#160;&#160;&#160;&#160;left [col(&quot;item_id&quot;)];\n &#160;&#160;&#160;&#160;&#160;&#160;&#160;&#160;&#160;&#160;&#160;&#160;&#160;&#160;&#160;&#160;&#160;&#160;&#160;right: [col(&quot;item_id&quot;)] [6]&#45;&#45;CSV SCAN ../data/dota/item_ids.csv;\nπ 2/2;\nσ &#45;\n[(50, 7)] -->\n<g id=\"edge9\" class=\"edge\">\n<title>JOIN\n                    left [col(&quot;item_id&quot;)];\n                    right: [col(&quot;item_id&quot;)] [6]--CSV SCAN ../data/dota/item_ids.csv;\nπ 2/2;\nσ -\n[(50, 7)]</title>\n<path fill=\"none\" stroke=\"black\" d=\"M535.95,-103.93C554.06,-92.89 575.47,-79.83 594.77,-68.06\"/>\n</g>\n<!-- JOIN\n &#160;&#160;&#160;&#160;&#160;&#160;&#160;&#160;&#160;&#160;&#160;&#160;&#160;&#160;&#160;&#160;&#160;&#160;&#160;left [col(&quot;cluster&quot;)];\n &#160;&#160;&#160;&#160;&#160;&#160;&#160;&#160;&#160;&#160;&#160;&#160;&#160;&#160;&#160;&#160;&#160;&#160;&#160;right: [col(&quot;cluster&quot;)] [2] -->\n<g id=\"node12\" class=\"node\">\n<title>JOIN\n                    left [col(&quot;cluster&quot;)];\n                    right: [col(&quot;cluster&quot;)] [2]</title>\n<polygon fill=\"none\" stroke=\"black\" points=\"1007.5,-501.5 728.5,-501.5 728.5,-448.5 1007.5,-448.5 1007.5,-501.5\"/>\n<text text-anchor=\"middle\" x=\"868\" y=\"-486.3\" font-family=\"Times,serif\" font-size=\"14.00\">JOIN</text>\n<text text-anchor=\"middle\" x=\"868\" y=\"-471.3\" font-family=\"Times,serif\" font-size=\"14.00\">                    left [col(&quot;cluster&quot;)];</text>\n<text text-anchor=\"middle\" x=\"868\" y=\"-456.3\" font-family=\"Times,serif\" font-size=\"14.00\">                    right: [col(&quot;cluster&quot;)] [2]</text>\n</g>\n<!-- FAST PROJECTION [(20, 1)]&#45;&#45;JOIN\n &#160;&#160;&#160;&#160;&#160;&#160;&#160;&#160;&#160;&#160;&#160;&#160;&#160;&#160;&#160;&#160;&#160;&#160;&#160;left [col(&quot;cluster&quot;)];\n &#160;&#160;&#160;&#160;&#160;&#160;&#160;&#160;&#160;&#160;&#160;&#160;&#160;&#160;&#160;&#160;&#160;&#160;&#160;right: [col(&quot;cluster&quot;)] [2] -->\n<g id=\"edge11\" class=\"edge\">\n<title>FAST PROJECTION [(20, 1)]--JOIN\n                    left [col(&quot;cluster&quot;)];\n                    right: [col(&quot;cluster&quot;)] [2]</title>\n<path fill=\"none\" stroke=\"black\" d=\"M854.12,-553.17C856.71,-538.78 860.43,-518.11 863.36,-501.78\"/>\n</g>\n<!-- CSV SCAN ../data/dota/match.csv;\nπ */13;\nσ &#45;\n[(30, 3)] -->\n<g id=\"node13\" class=\"node\">\n<title>CSV SCAN ../data/dota/match.csv;\nπ */13;\nσ -\n[(30, 3)]</title>\n<polygon fill=\"none\" stroke=\"black\" points=\"998,-405 738,-405 738,-337 998,-337 998,-405\"/>\n<text text-anchor=\"middle\" x=\"868\" y=\"-389.8\" font-family=\"Times,serif\" font-size=\"14.00\">CSV SCAN ../data/dota/match.csv;</text>\n<text text-anchor=\"middle\" x=\"868\" y=\"-374.8\" font-family=\"Times,serif\" font-size=\"14.00\">π */13;</text>\n<text text-anchor=\"middle\" x=\"868\" y=\"-359.8\" font-family=\"Times,serif\" font-size=\"14.00\">σ -</text>\n<text text-anchor=\"middle\" x=\"868\" y=\"-344.8\" font-family=\"Times,serif\" font-size=\"14.00\">[(30, 3)]</text>\n</g>\n<!-- JOIN\n &#160;&#160;&#160;&#160;&#160;&#160;&#160;&#160;&#160;&#160;&#160;&#160;&#160;&#160;&#160;&#160;&#160;&#160;&#160;left [col(&quot;cluster&quot;)];\n &#160;&#160;&#160;&#160;&#160;&#160;&#160;&#160;&#160;&#160;&#160;&#160;&#160;&#160;&#160;&#160;&#160;&#160;&#160;right: [col(&quot;cluster&quot;)] [2]&#45;&#45;CSV SCAN ../data/dota/match.csv;\nπ */13;\nσ &#45;\n[(30, 3)] -->\n<g id=\"edge12\" class=\"edge\">\n<title>JOIN\n                    left [col(&quot;cluster&quot;)];\n                    right: [col(&quot;cluster&quot;)] [2]--CSV SCAN ../data/dota/match.csv;\nπ */13;\nσ -\n[(30, 3)]</title>\n<path fill=\"none\" stroke=\"black\" d=\"M868,-448.26C868,-435.16 868,-419.08 868,-405.07\"/>\n</g>\n<!-- CSV SCAN ../data/dota/cluster_regions.csv;\nπ */2;\nσ &#45;\n[(40, 3)] -->\n<g id=\"node14\" class=\"node\">\n<title>CSV SCAN ../data/dota/cluster_regions.csv;\nπ */2;\nσ -\n[(40, 3)]</title>\n<polygon fill=\"none\" stroke=\"black\" points=\"1341.5,-405 1016.5,-405 1016.5,-337 1341.5,-337 1341.5,-405\"/>\n<text text-anchor=\"middle\" x=\"1179\" y=\"-389.8\" font-family=\"Times,serif\" font-size=\"14.00\">CSV SCAN ../data/dota/cluster_regions.csv;</text>\n<text text-anchor=\"middle\" x=\"1179\" y=\"-374.8\" font-family=\"Times,serif\" font-size=\"14.00\">π */2;</text>\n<text text-anchor=\"middle\" x=\"1179\" y=\"-359.8\" font-family=\"Times,serif\" font-size=\"14.00\">σ -</text>\n<text text-anchor=\"middle\" x=\"1179\" y=\"-344.8\" font-family=\"Times,serif\" font-size=\"14.00\">[(40, 3)]</text>\n</g>\n<!-- JOIN\n &#160;&#160;&#160;&#160;&#160;&#160;&#160;&#160;&#160;&#160;&#160;&#160;&#160;&#160;&#160;&#160;&#160;&#160;&#160;left [col(&quot;cluster&quot;)];\n &#160;&#160;&#160;&#160;&#160;&#160;&#160;&#160;&#160;&#160;&#160;&#160;&#160;&#160;&#160;&#160;&#160;&#160;&#160;right: [col(&quot;cluster&quot;)] [2]&#45;&#45;CSV SCAN ../data/dota/cluster_regions.csv;\nπ */2;\nσ &#45;\n[(40, 3)] -->\n<g id=\"edge13\" class=\"edge\">\n<title>JOIN\n                    left [col(&quot;cluster&quot;)];\n                    right: [col(&quot;cluster&quot;)] [2]--CSV SCAN ../data/dota/cluster_regions.csv;\nπ */2;\nσ -\n[(40, 3)]</title>\n<path fill=\"none\" stroke=\"black\" d=\"M946.08,-448.39C986.11,-435.26 1035.34,-419.12 1078.21,-405.06\"/>\n</g>\n</g>\n</svg>",
      "text/plain": [
       "<IPython.core.display.SVG object>"
      ]
     },
     "metadata": {},
     "output_type": "display_data"
    }
   ],
   "source": [
    "pl_final_lazy.show_graph(optimized=True)\n"
   ]
  },
  {
   "cell_type": "code",
   "execution_count": 8,
   "metadata": {},
   "outputs": [],
   "source": [
    "pl_final = pl_final_lazy.collect()\n",
    "\n",
    "# drop cols with more than 20% NaN\n",
    "pl_final = pl_final[\n",
    "    :,\n",
    "    [\n",
    "        pl_final[col].null_count() <= 0.2 * pl_final.height\n",
    "        for col in pl_final.columns\n",
    "        if col not in [\"purchases\"]\n",
    "    ]\n",
    "    + [\"purchases\"],\n",
    "]\n"
   ]
  },
  {
   "cell_type": "code",
   "execution_count": 9,
   "metadata": {},
   "outputs": [
    {
     "data": {
      "text/plain": [
       "(318787, 67)"
      ]
     },
     "execution_count": 9,
     "metadata": {},
     "output_type": "execute_result"
    }
   ],
   "source": [
    "pl_final.shape"
   ]
  },
  {
   "cell_type": "code",
   "execution_count": 16,
   "metadata": {},
   "outputs": [
    {
     "data": {
      "text/plain": [
       "(15305, 86)"
      ]
     },
     "execution_count": 16,
     "metadata": {},
     "output_type": "execute_result"
    }
   ],
   "source": [
    "pl_final_fetch = pl_final_lazy.fetch(n_rows=int(1_000_000))  # take a number of rows from the initial files and run the code -> 18Mio in purchase_log -> 100 Mio limit fetches all data\n",
    "pl_final_fetch.shape"
   ]
  },
  {
   "cell_type": "code",
   "execution_count": null,
   "metadata": {},
   "outputs": [],
   "source": []
  }
 ],
 "metadata": {
  "interpreter": {
   "hash": "215c38a1ffab15fe048699485553ca3be509ace404ed238348fe28771b453818"
  },
  "kernelspec": {
   "display_name": "Python 3.9.9 ('.venv': poetry)",
   "language": "python",
   "name": "python3"
  },
  "language_info": {
   "codemirror_mode": {
    "name": "ipython",
    "version": 3
   },
   "file_extension": ".py",
   "mimetype": "text/x-python",
   "name": "python",
   "nbconvert_exporter": "python",
   "pygments_lexer": "ipython3",
   "version": "3.9.9"
  },
  "orig_nbformat": 4
 },
 "nbformat": 4,
 "nbformat_minor": 2
}
