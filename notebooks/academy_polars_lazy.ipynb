{
 "cells": [
  {
   "cell_type": "markdown",
   "metadata": {},
   "source": [
    "# Polars"
   ]
  },
  {
   "cell_type": "code",
   "execution_count": 5,
   "metadata": {},
   "outputs": [],
   "source": [
    "import polars as pl"
   ]
  },
  {
   "cell_type": "markdown",
   "metadata": {},
   "source": [
    "### Load Data"
   ]
  },
  {
   "cell_type": "code",
   "execution_count": 6,
   "metadata": {},
   "outputs": [],
   "source": [
    "DATA_DIR = \"../data/dota\""
   ]
  },
  {
   "cell_type": "code",
   "execution_count": 7,
   "metadata": {},
   "outputs": [],
   "source": [
    "pl_match = pl.scan_csv(f\"{DATA_DIR}/match.csv\")\n",
    "pl_cluster_regions = pl.scan_csv(f\"{DATA_DIR}/cluster_regions.csv\")\n",
    "pl_purchase_log = pl.scan_csv(f\"{DATA_DIR}/purchase_log.csv\")\n",
    "pl_item_id_names = pl.scan_csv(f\"{DATA_DIR}/item_ids.csv\")\n",
    "pl_players = pl.scan_csv(f\"{DATA_DIR}/players.csv\")"
   ]
  },
  {
   "cell_type": "code",
   "execution_count": 14,
   "metadata": {},
   "outputs": [],
   "source": [
    "# add region names to match data\n",
    "\n",
    "match_with_region = pl_match.join(pl_cluster_regions, how=\"left\", on=\"cluster\").drop(\"cluster\")"
   ]
  },
  {
   "cell_type": "code",
   "execution_count": 9,
   "metadata": {},
   "outputs": [],
   "source": [
    "# add item names to item purchases\n",
    "\n",
    "purchases_with_item_names = (\n",
    "    pl_purchase_log\n",
    "    .join(pl_item_id_names, how=\"left\", on=\"item_id\")\n",
    "    .drop(\"item_id\")\n",
    "    .groupby([\"match_id\", \"player_slot\", \"item_name\"]).agg(pl.col(\"time\").list().keep_name())\n",
    "    .groupby([\"match_id\", \"player_slot\"]).agg(\n",
    "        [\n",
    "            pl.apply(\n",
    "                [pl.col(\"item_name\"), pl.col(\"time\")],\n",
    "                lambda s: dict(zip(s[0], s[1].to_list())),\n",
    "            ).alias(\"purchases\")\n",
    "        ]\n",
    "    )\n",
    ")"
   ]
  },
  {
   "cell_type": "code",
   "execution_count": 10,
   "metadata": {},
   "outputs": [],
   "source": [
    "# add match and item information to player data\n",
    "\n",
    "pl_final_lazy = (pl_players\n",
    "    .filter(pl.col(\"account_id\") != 0)\n",
    "    .join(purchases_with_item_names, on=[\"match_id\", \"player_slot\"])\n",
    "    .join(match_with_region, how=\"left\", on=\"match_id\")\n",
    "    )\n"
   ]
  },
  {
   "cell_type": "code",
   "execution_count": 12,
   "metadata": {},
   "outputs": [
    {
     "data": {
      "image/svg+xml": "<svg xmlns=\"http://www.w3.org/2000/svg\" xmlns:xlink=\"http://www.w3.org/1999/xlink\" width=\"1316pt\" height=\"727pt\" viewBox=\"0.00 0.00 1315.50 727.00\">\n<g id=\"graph0\" class=\"graph\" transform=\"scale(1 1) rotate(0) translate(4 723)\">\n<title>polars_query</title>\n<polygon fill=\"white\" stroke=\"transparent\" points=\"-4,4 -4,-723 1311.5,-723 1311.5,4 -4,4\"/>\n<!-- JOIN\n &#160;&#160;&#160;&#160;&#160;&#160;&#160;&#160;&#160;&#160;&#160;&#160;&#160;&#160;&#160;&#160;&#160;&#160;&#160;left [col(&quot;match_id&quot;)];\n &#160;&#160;&#160;&#160;&#160;&#160;&#160;&#160;&#160;&#160;&#160;&#160;&#160;&#160;&#160;&#160;&#160;&#160;&#160;right: [col(&quot;match_id&quot;)] [0] -->\n<g id=\"node1\" class=\"node\">\n<title>JOIN\n                    left [col(&quot;match_id&quot;)];\n                    right: [col(&quot;match_id&quot;)] [0]</title>\n<polygon fill=\"none\" stroke=\"black\" points=\"813,-719 519,-719 519,-666 813,-666 813,-719\"/>\n<text text-anchor=\"middle\" x=\"666\" y=\"-703.8\" font-family=\"Times,serif\" font-size=\"14.00\">JOIN</text>\n<text text-anchor=\"middle\" x=\"666\" y=\"-688.8\" font-family=\"Times,serif\" font-size=\"14.00\">                    left [col(&quot;match_id&quot;)];</text>\n<text text-anchor=\"middle\" x=\"666\" y=\"-673.8\" font-family=\"Times,serif\" font-size=\"14.00\">                    right: [col(&quot;match_id&quot;)] [0]</text>\n</g>\n<!-- JOIN\n &#160;&#160;&#160;&#160;&#160;&#160;&#160;&#160;&#160;&#160;&#160;&#160;&#160;&#160;&#160;&#160;&#160;&#160;&#160;left [col(&quot;match_id&quot;), col(&quot;player_slot&quot;)];\n &#160;&#160;&#160;&#160;&#160;&#160;&#160;&#160;&#160;&#160;&#160;&#160;&#160;&#160;&#160;&#160;&#160;&#160;&#160;right: [col(&quot;match_id&quot;), col(&quot;player_slot&quot;)] [1] -->\n<g id=\"node2\" class=\"node\">\n<title>JOIN\n                    left [col(&quot;match_id&quot;), col(&quot;player_slot&quot;)];\n                    right: [col(&quot;match_id&quot;), col(&quot;player_slot&quot;)] [1]</title>\n<polygon fill=\"none\" stroke=\"black\" points=\"709.5,-630 284.5,-630 284.5,-577 709.5,-577 709.5,-630\"/>\n<text text-anchor=\"middle\" x=\"497\" y=\"-614.8\" font-family=\"Times,serif\" font-size=\"14.00\">JOIN</text>\n<text text-anchor=\"middle\" x=\"497\" y=\"-599.8\" font-family=\"Times,serif\" font-size=\"14.00\">                    left [col(&quot;match_id&quot;), col(&quot;player_slot&quot;)];</text>\n<text text-anchor=\"middle\" x=\"497\" y=\"-584.8\" font-family=\"Times,serif\" font-size=\"14.00\">                    right: [col(&quot;match_id&quot;), col(&quot;player_slot&quot;)] [1]</text>\n</g>\n<!-- JOIN\n &#160;&#160;&#160;&#160;&#160;&#160;&#160;&#160;&#160;&#160;&#160;&#160;&#160;&#160;&#160;&#160;&#160;&#160;&#160;left [col(&quot;match_id&quot;)];\n &#160;&#160;&#160;&#160;&#160;&#160;&#160;&#160;&#160;&#160;&#160;&#160;&#160;&#160;&#160;&#160;&#160;&#160;&#160;right: [col(&quot;match_id&quot;)] [0]&#45;&#45;JOIN\n &#160;&#160;&#160;&#160;&#160;&#160;&#160;&#160;&#160;&#160;&#160;&#160;&#160;&#160;&#160;&#160;&#160;&#160;&#160;left [col(&quot;match_id&quot;), col(&quot;player_slot&quot;)];\n &#160;&#160;&#160;&#160;&#160;&#160;&#160;&#160;&#160;&#160;&#160;&#160;&#160;&#160;&#160;&#160;&#160;&#160;&#160;right: [col(&quot;match_id&quot;), col(&quot;player_slot&quot;)] [1] -->\n<g id=\"edge1\" class=\"edge\">\n<title>JOIN\n                    left [col(&quot;match_id&quot;)];\n                    right: [col(&quot;match_id&quot;)] [0]--JOIN\n                    left [col(&quot;match_id&quot;), col(&quot;player_slot&quot;)];\n                    right: [col(&quot;match_id&quot;), col(&quot;player_slot&quot;)] [1]</title>\n<path fill=\"none\" stroke=\"black\" d=\"M616.21,-665.87C594.3,-654.59 568.63,-641.37 546.73,-630.1\"/>\n</g>\n<!-- FAST PROJECTION [(20, 1)] -->\n<g id=\"node11\" class=\"node\">\n<title>FAST PROJECTION [(20, 1)]</title>\n<polygon fill=\"none\" stroke=\"black\" points=\"957.5,-621.5 742.5,-621.5 742.5,-585.5 957.5,-585.5 957.5,-621.5\"/>\n<text text-anchor=\"middle\" x=\"850\" y=\"-599.8\" font-family=\"Times,serif\" font-size=\"14.00\">FAST PROJECTION [(20, 1)]</text>\n</g>\n<!-- JOIN\n &#160;&#160;&#160;&#160;&#160;&#160;&#160;&#160;&#160;&#160;&#160;&#160;&#160;&#160;&#160;&#160;&#160;&#160;&#160;left [col(&quot;match_id&quot;)];\n &#160;&#160;&#160;&#160;&#160;&#160;&#160;&#160;&#160;&#160;&#160;&#160;&#160;&#160;&#160;&#160;&#160;&#160;&#160;right: [col(&quot;match_id&quot;)] [0]&#45;&#45;FAST PROJECTION [(20, 1)] -->\n<g id=\"edge10\" class=\"edge\">\n<title>JOIN\n                    left [col(&quot;match_id&quot;)];\n                    right: [col(&quot;match_id&quot;)] [0]--FAST PROJECTION [(20, 1)]</title>\n<path fill=\"none\" stroke=\"black\" d=\"M720.21,-665.87C750.42,-651.58 787.22,-634.19 813.9,-621.57\"/>\n</g>\n<!-- CSV SCAN ../data/dota/players.csv;\nπ */73;\nσ (col(&quot;account_id&quot;)) != (0...\n[(20, 2)] -->\n<g id=\"node3\" class=\"node\">\n<title>CSV SCAN ../data/dota/players.csv;\nπ */73;\nσ (col(&quot;account_id&quot;)) != (0...\n[(20, 2)]</title>\n<polygon fill=\"none\" stroke=\"black\" points=\"268,-541 0,-541 0,-473 268,-473 268,-541\"/>\n<text text-anchor=\"middle\" x=\"134\" y=\"-525.8\" font-family=\"Times,serif\" font-size=\"14.00\">CSV SCAN ../data/dota/players.csv;</text>\n<text text-anchor=\"middle\" x=\"134\" y=\"-510.8\" font-family=\"Times,serif\" font-size=\"14.00\">π */73;</text>\n<text text-anchor=\"middle\" x=\"134\" y=\"-495.8\" font-family=\"Times,serif\" font-size=\"14.00\">σ (col(&quot;account_id&quot;)) != (0...</text>\n<text text-anchor=\"middle\" x=\"134\" y=\"-480.8\" font-family=\"Times,serif\" font-size=\"14.00\">[(20, 2)]</text>\n</g>\n<!-- JOIN\n &#160;&#160;&#160;&#160;&#160;&#160;&#160;&#160;&#160;&#160;&#160;&#160;&#160;&#160;&#160;&#160;&#160;&#160;&#160;left [col(&quot;match_id&quot;), col(&quot;player_slot&quot;)];\n &#160;&#160;&#160;&#160;&#160;&#160;&#160;&#160;&#160;&#160;&#160;&#160;&#160;&#160;&#160;&#160;&#160;&#160;&#160;right: [col(&quot;match_id&quot;), col(&quot;player_slot&quot;)] [1]&#45;&#45;CSV SCAN ../data/dota/players.csv;\nπ */73;\nσ (col(&quot;account_id&quot;)) != (0...\n[(20, 2)] -->\n<g id=\"edge2\" class=\"edge\">\n<title>JOIN\n                    left [col(&quot;match_id&quot;), col(&quot;player_slot&quot;)];\n                    right: [col(&quot;match_id&quot;), col(&quot;player_slot&quot;)] [1]--CSV SCAN ../data/dota/players.csv;\nπ */73;\nσ (col(&quot;account_id&quot;)) != (0...\n[(20, 2)]</title>\n<path fill=\"none\" stroke=\"black\" d=\"M398.77,-576.93C356.35,-565.89 306.19,-552.83 261,-541.06\"/>\n</g>\n<!-- AGG [col(&quot;item_name&quot;).([col(&quot;time&quot;)]).alias(&quot;purchases&quot;)]\nBY\n[col(&quot;match_id&quot;),col(&quot;player_slot&quot;)] [(30, 2)] -->\n<g id=\"node4\" class=\"node\">\n<title>AGG [col(&quot;item_name&quot;).([col(&quot;time&quot;)]).alias(&quot;purchases&quot;)]\nBY\n[col(&quot;match_id&quot;),col(&quot;player_slot&quot;)] [(30, 2)]</title>\n<polygon fill=\"none\" stroke=\"black\" points=\"708,-533.5 286,-533.5 286,-480.5 708,-480.5 708,-533.5\"/>\n<text text-anchor=\"middle\" x=\"497\" y=\"-518.3\" font-family=\"Times,serif\" font-size=\"14.00\">AGG [col(&quot;item_name&quot;).([col(&quot;time&quot;)]).alias(&quot;purchases&quot;)]</text>\n<text text-anchor=\"middle\" x=\"497\" y=\"-503.3\" font-family=\"Times,serif\" font-size=\"14.00\">BY</text>\n<text text-anchor=\"middle\" x=\"497\" y=\"-488.3\" font-family=\"Times,serif\" font-size=\"14.00\">[col(&quot;match_id&quot;),col(&quot;player_slot&quot;)] [(30, 2)]</text>\n</g>\n<!-- JOIN\n &#160;&#160;&#160;&#160;&#160;&#160;&#160;&#160;&#160;&#160;&#160;&#160;&#160;&#160;&#160;&#160;&#160;&#160;&#160;left [col(&quot;match_id&quot;), col(&quot;player_slot&quot;)];\n &#160;&#160;&#160;&#160;&#160;&#160;&#160;&#160;&#160;&#160;&#160;&#160;&#160;&#160;&#160;&#160;&#160;&#160;&#160;right: [col(&quot;match_id&quot;), col(&quot;player_slot&quot;)] [1]&#45;&#45;AGG [col(&quot;item_name&quot;).([col(&quot;time&quot;)]).alias(&quot;purchases&quot;)]\nBY\n[col(&quot;match_id&quot;),col(&quot;player_slot&quot;)] [(30, 2)] -->\n<g id=\"edge3\" class=\"edge\">\n<title>JOIN\n                    left [col(&quot;match_id&quot;), col(&quot;player_slot&quot;)];\n                    right: [col(&quot;match_id&quot;), col(&quot;player_slot&quot;)] [1]--AGG [col(&quot;item_name&quot;).([col(&quot;time&quot;)]).alias(&quot;purchases&quot;)]\nBY\n[col(&quot;match_id&quot;),col(&quot;player_slot&quot;)] [(30, 2)]</title>\n<path fill=\"none\" stroke=\"black\" d=\"M497,-576.68C497,-563.34 497,-547.12 497,-533.79\"/>\n</g>\n<!-- AGG [col(&quot;time&quot;).list().alias(&quot;time&quot;)]\nBY\n[col(&quot;match_id&quot;),col(&quot;player_slot&quot;),col(&quot;item_name&quot;)] [(30, 3)] -->\n<g id=\"node5\" class=\"node\">\n<title>AGG [col(&quot;time&quot;).list().alias(&quot;time&quot;)]\nBY\n[col(&quot;match_id&quot;),col(&quot;player_slot&quot;),col(&quot;item_name&quot;)] [(30, 3)]</title>\n<polygon fill=\"none\" stroke=\"black\" points=\"722.5,-429.5 271.5,-429.5 271.5,-376.5 722.5,-376.5 722.5,-429.5\"/>\n<text text-anchor=\"middle\" x=\"497\" y=\"-414.3\" font-family=\"Times,serif\" font-size=\"14.00\">AGG [col(&quot;time&quot;).list().alias(&quot;time&quot;)]</text>\n<text text-anchor=\"middle\" x=\"497\" y=\"-399.3\" font-family=\"Times,serif\" font-size=\"14.00\">BY</text>\n<text text-anchor=\"middle\" x=\"497\" y=\"-384.3\" font-family=\"Times,serif\" font-size=\"14.00\">[col(&quot;match_id&quot;),col(&quot;player_slot&quot;),col(&quot;item_name&quot;)] [(30, 3)]</text>\n</g>\n<!-- AGG [col(&quot;item_name&quot;).([col(&quot;time&quot;)]).alias(&quot;purchases&quot;)]\nBY\n[col(&quot;match_id&quot;),col(&quot;player_slot&quot;)] [(30, 2)]&#45;&#45;AGG [col(&quot;time&quot;).list().alias(&quot;time&quot;)]\nBY\n[col(&quot;match_id&quot;),col(&quot;player_slot&quot;),col(&quot;item_name&quot;)] [(30, 3)] -->\n<g id=\"edge4\" class=\"edge\">\n<title>AGG [col(&quot;item_name&quot;).([col(&quot;time&quot;)]).alias(&quot;purchases&quot;)]\nBY\n[col(&quot;match_id&quot;),col(&quot;player_slot&quot;)] [(30, 2)]--AGG [col(&quot;time&quot;).list().alias(&quot;time&quot;)]\nBY\n[col(&quot;match_id&quot;),col(&quot;player_slot&quot;),col(&quot;item_name&quot;)] [(30, 3)]</title>\n<path fill=\"none\" stroke=\"black\" d=\"M497,-480.26C497,-464.8 497,-445.19 497,-429.73\"/>\n</g>\n<!-- FAST PROJECTION [(30, 4)] -->\n<g id=\"node6\" class=\"node\">\n<title>FAST PROJECTION [(30, 4)]</title>\n<polygon fill=\"none\" stroke=\"black\" points=\"604.5,-317 389.5,-317 389.5,-281 604.5,-281 604.5,-317\"/>\n<text text-anchor=\"middle\" x=\"497\" y=\"-295.3\" font-family=\"Times,serif\" font-size=\"14.00\">FAST PROJECTION [(30, 4)]</text>\n</g>\n<!-- AGG [col(&quot;time&quot;).list().alias(&quot;time&quot;)]\nBY\n[col(&quot;match_id&quot;),col(&quot;player_slot&quot;),col(&quot;item_name&quot;)] [(30, 3)]&#45;&#45;FAST PROJECTION [(30, 4)] -->\n<g id=\"edge5\" class=\"edge\">\n<title>AGG [col(&quot;time&quot;).list().alias(&quot;time&quot;)]\nBY\n[col(&quot;match_id&quot;),col(&quot;player_slot&quot;),col(&quot;item_name&quot;)] [(30, 3)]--FAST PROJECTION [(30, 4)]</title>\n<path fill=\"none\" stroke=\"black\" d=\"M497,-376.26C497,-357.73 497,-333.25 497,-317.08\"/>\n</g>\n<!-- FAST PROJECTION [(30, 5)] -->\n<g id=\"node7\" class=\"node\">\n<title>FAST PROJECTION [(30, 5)]</title>\n<polygon fill=\"none\" stroke=\"black\" points=\"604.5,-229 389.5,-229 389.5,-193 604.5,-193 604.5,-229\"/>\n<text text-anchor=\"middle\" x=\"497\" y=\"-207.3\" font-family=\"Times,serif\" font-size=\"14.00\">FAST PROJECTION [(30, 5)]</text>\n</g>\n<!-- FAST PROJECTION [(30, 4)]&#45;&#45;FAST PROJECTION [(30, 5)] -->\n<g id=\"edge6\" class=\"edge\">\n<title>FAST PROJECTION [(30, 4)]--FAST PROJECTION [(30, 5)]</title>\n<path fill=\"none\" stroke=\"black\" d=\"M497,-280.6C497,-265.58 497,-244.01 497,-229.08\"/>\n</g>\n<!-- JOIN\n &#160;&#160;&#160;&#160;&#160;&#160;&#160;&#160;&#160;&#160;&#160;&#160;&#160;&#160;&#160;&#160;&#160;&#160;&#160;left [col(&quot;item_id&quot;)];\n &#160;&#160;&#160;&#160;&#160;&#160;&#160;&#160;&#160;&#160;&#160;&#160;&#160;&#160;&#160;&#160;&#160;&#160;&#160;right: [col(&quot;item_id&quot;)] [6] -->\n<g id=\"node8\" class=\"node\">\n<title>JOIN\n                    left [col(&quot;item_id&quot;)];\n                    right: [col(&quot;item_id&quot;)] [6]</title>\n<polygon fill=\"none\" stroke=\"black\" points=\"638,-157 356,-157 356,-104 638,-104 638,-157\"/>\n<text text-anchor=\"middle\" x=\"497\" y=\"-141.8\" font-family=\"Times,serif\" font-size=\"14.00\">JOIN</text>\n<text text-anchor=\"middle\" x=\"497\" y=\"-126.8\" font-family=\"Times,serif\" font-size=\"14.00\">                    left [col(&quot;item_id&quot;)];</text>\n<text text-anchor=\"middle\" x=\"497\" y=\"-111.8\" font-family=\"Times,serif\" font-size=\"14.00\">                    right: [col(&quot;item_id&quot;)] [6]</text>\n</g>\n<!-- FAST PROJECTION [(30, 5)]&#45;&#45;JOIN\n &#160;&#160;&#160;&#160;&#160;&#160;&#160;&#160;&#160;&#160;&#160;&#160;&#160;&#160;&#160;&#160;&#160;&#160;&#160;left [col(&quot;item_id&quot;)];\n &#160;&#160;&#160;&#160;&#160;&#160;&#160;&#160;&#160;&#160;&#160;&#160;&#160;&#160;&#160;&#160;&#160;&#160;&#160;right: [col(&quot;item_id&quot;)] [6] -->\n<g id=\"edge7\" class=\"edge\">\n<title>FAST PROJECTION [(30, 5)]--JOIN\n                    left [col(&quot;item_id&quot;)];\n                    right: [col(&quot;item_id&quot;)] [6]</title>\n<path fill=\"none\" stroke=\"black\" d=\"M497,-192.97C497,-182.51 497,-168.9 497,-157.16\"/>\n</g>\n<!-- CSV SCAN ../data/dota/purchase_log.csv;\nπ 4/4;\nσ &#45;\n[(40, 7)] -->\n<g id=\"node9\" class=\"node\">\n<title>CSV SCAN ../data/dota/purchase_log.csv;\nπ 4/4;\nσ -\n[(40, 7)]</title>\n<polygon fill=\"none\" stroke=\"black\" points=\"496.5,-68 187.5,-68 187.5,0 496.5,0 496.5,-68\"/>\n<text text-anchor=\"middle\" x=\"342\" y=\"-52.8\" font-family=\"Times,serif\" font-size=\"14.00\">CSV SCAN ../data/dota/purchase_log.csv;</text>\n<text text-anchor=\"middle\" x=\"342\" y=\"-37.8\" font-family=\"Times,serif\" font-size=\"14.00\">π 4/4;</text>\n<text text-anchor=\"middle\" x=\"342\" y=\"-22.8\" font-family=\"Times,serif\" font-size=\"14.00\">σ -</text>\n<text text-anchor=\"middle\" x=\"342\" y=\"-7.8\" font-family=\"Times,serif\" font-size=\"14.00\">[(40, 7)]</text>\n</g>\n<!-- JOIN\n &#160;&#160;&#160;&#160;&#160;&#160;&#160;&#160;&#160;&#160;&#160;&#160;&#160;&#160;&#160;&#160;&#160;&#160;&#160;left [col(&quot;item_id&quot;)];\n &#160;&#160;&#160;&#160;&#160;&#160;&#160;&#160;&#160;&#160;&#160;&#160;&#160;&#160;&#160;&#160;&#160;&#160;&#160;right: [col(&quot;item_id&quot;)] [6]&#45;&#45;CSV SCAN ../data/dota/purchase_log.csv;\nπ 4/4;\nσ &#45;\n[(40, 7)] -->\n<g id=\"edge8\" class=\"edge\">\n<title>JOIN\n                    left [col(&quot;item_id&quot;)];\n                    right: [col(&quot;item_id&quot;)] [6]--CSV SCAN ../data/dota/purchase_log.csv;\nπ 4/4;\nσ -\n[(40, 7)]</title>\n<path fill=\"none\" stroke=\"black\" d=\"M455.05,-103.93C436.94,-92.89 415.53,-79.83 396.23,-68.06\"/>\n</g>\n<!-- CSV SCAN ../data/dota/item_ids.csv;\nπ 2/2;\nσ &#45;\n[(50, 7)] -->\n<g id=\"node10\" class=\"node\">\n<title>CSV SCAN ../data/dota/item_ids.csv;\nπ 2/2;\nσ -\n[(50, 7)]</title>\n<polygon fill=\"none\" stroke=\"black\" points=\"789.5,-68 514.5,-68 514.5,0 789.5,0 789.5,-68\"/>\n<text text-anchor=\"middle\" x=\"652\" y=\"-52.8\" font-family=\"Times,serif\" font-size=\"14.00\">CSV SCAN ../data/dota/item_ids.csv;</text>\n<text text-anchor=\"middle\" x=\"652\" y=\"-37.8\" font-family=\"Times,serif\" font-size=\"14.00\">π 2/2;</text>\n<text text-anchor=\"middle\" x=\"652\" y=\"-22.8\" font-family=\"Times,serif\" font-size=\"14.00\">σ -</text>\n<text text-anchor=\"middle\" x=\"652\" y=\"-7.8\" font-family=\"Times,serif\" font-size=\"14.00\">[(50, 7)]</text>\n</g>\n<!-- JOIN\n &#160;&#160;&#160;&#160;&#160;&#160;&#160;&#160;&#160;&#160;&#160;&#160;&#160;&#160;&#160;&#160;&#160;&#160;&#160;left [col(&quot;item_id&quot;)];\n &#160;&#160;&#160;&#160;&#160;&#160;&#160;&#160;&#160;&#160;&#160;&#160;&#160;&#160;&#160;&#160;&#160;&#160;&#160;right: [col(&quot;item_id&quot;)] [6]&#45;&#45;CSV SCAN ../data/dota/item_ids.csv;\nπ 2/2;\nσ &#45;\n[(50, 7)] -->\n<g id=\"edge9\" class=\"edge\">\n<title>JOIN\n                    left [col(&quot;item_id&quot;)];\n                    right: [col(&quot;item_id&quot;)] [6]--CSV SCAN ../data/dota/item_ids.csv;\nπ 2/2;\nσ -\n[(50, 7)]</title>\n<path fill=\"none\" stroke=\"black\" d=\"M538.95,-103.93C557.06,-92.89 578.47,-79.83 597.77,-68.06\"/>\n</g>\n<!-- JOIN\n &#160;&#160;&#160;&#160;&#160;&#160;&#160;&#160;&#160;&#160;&#160;&#160;&#160;&#160;&#160;&#160;&#160;&#160;&#160;left [col(&quot;cluster&quot;)];\n &#160;&#160;&#160;&#160;&#160;&#160;&#160;&#160;&#160;&#160;&#160;&#160;&#160;&#160;&#160;&#160;&#160;&#160;&#160;right: [col(&quot;cluster&quot;)] [2] -->\n<g id=\"node12\" class=\"node\">\n<title>JOIN\n                    left [col(&quot;cluster&quot;)];\n                    right: [col(&quot;cluster&quot;)] [2]</title>\n<polygon fill=\"none\" stroke=\"black\" points=\"1005.5,-533.5 726.5,-533.5 726.5,-480.5 1005.5,-480.5 1005.5,-533.5\"/>\n<text text-anchor=\"middle\" x=\"866\" y=\"-518.3\" font-family=\"Times,serif\" font-size=\"14.00\">JOIN</text>\n<text text-anchor=\"middle\" x=\"866\" y=\"-503.3\" font-family=\"Times,serif\" font-size=\"14.00\">                    left [col(&quot;cluster&quot;)];</text>\n<text text-anchor=\"middle\" x=\"866\" y=\"-488.3\" font-family=\"Times,serif\" font-size=\"14.00\">                    right: [col(&quot;cluster&quot;)] [2]</text>\n</g>\n<!-- FAST PROJECTION [(20, 1)]&#45;&#45;JOIN\n &#160;&#160;&#160;&#160;&#160;&#160;&#160;&#160;&#160;&#160;&#160;&#160;&#160;&#160;&#160;&#160;&#160;&#160;&#160;left [col(&quot;cluster&quot;)];\n &#160;&#160;&#160;&#160;&#160;&#160;&#160;&#160;&#160;&#160;&#160;&#160;&#160;&#160;&#160;&#160;&#160;&#160;&#160;right: [col(&quot;cluster&quot;)] [2] -->\n<g id=\"edge11\" class=\"edge\">\n<title>FAST PROJECTION [(20, 1)]--JOIN\n                    left [col(&quot;cluster&quot;)];\n                    right: [col(&quot;cluster&quot;)] [2]</title>\n<path fill=\"none\" stroke=\"black\" d=\"M852.93,-585.17C855.37,-570.78 858.87,-550.11 861.64,-533.78\"/>\n</g>\n<!-- FAST PROJECTION [(30, 3)] -->\n<g id=\"node13\" class=\"node\">\n<title>FAST PROJECTION [(30, 3)]</title>\n<polygon fill=\"none\" stroke=\"black\" points=\"964.5,-421 749.5,-421 749.5,-385 964.5,-385 964.5,-421\"/>\n<text text-anchor=\"middle\" x=\"857\" y=\"-399.3\" font-family=\"Times,serif\" font-size=\"14.00\">FAST PROJECTION [(30, 3)]</text>\n</g>\n<!-- JOIN\n &#160;&#160;&#160;&#160;&#160;&#160;&#160;&#160;&#160;&#160;&#160;&#160;&#160;&#160;&#160;&#160;&#160;&#160;&#160;left [col(&quot;cluster&quot;)];\n &#160;&#160;&#160;&#160;&#160;&#160;&#160;&#160;&#160;&#160;&#160;&#160;&#160;&#160;&#160;&#160;&#160;&#160;&#160;right: [col(&quot;cluster&quot;)] [2]&#45;&#45;FAST PROJECTION [(30, 3)] -->\n<g id=\"edge12\" class=\"edge\">\n<title>JOIN\n                    left [col(&quot;cluster&quot;)];\n                    right: [col(&quot;cluster&quot;)] [2]--FAST PROJECTION [(30, 3)]</title>\n<path fill=\"none\" stroke=\"black\" d=\"M863.73,-480.26C862.09,-461.73 859.93,-437.25 858.51,-421.08\"/>\n</g>\n<!-- CSV SCAN ../data/dota/cluster_regions.csv;\nπ */2;\nσ &#45;\n[(40, 3)] -->\n<g id=\"node15\" class=\"node\">\n<title>CSV SCAN ../data/dota/cluster_regions.csv;\nπ */2;\nσ -\n[(40, 3)]</title>\n<polygon fill=\"none\" stroke=\"black\" points=\"1307.5,-437 982.5,-437 982.5,-369 1307.5,-369 1307.5,-437\"/>\n<text text-anchor=\"middle\" x=\"1145\" y=\"-421.8\" font-family=\"Times,serif\" font-size=\"14.00\">CSV SCAN ../data/dota/cluster_regions.csv;</text>\n<text text-anchor=\"middle\" x=\"1145\" y=\"-406.8\" font-family=\"Times,serif\" font-size=\"14.00\">π */2;</text>\n<text text-anchor=\"middle\" x=\"1145\" y=\"-391.8\" font-family=\"Times,serif\" font-size=\"14.00\">σ -</text>\n<text text-anchor=\"middle\" x=\"1145\" y=\"-376.8\" font-family=\"Times,serif\" font-size=\"14.00\">[(40, 3)]</text>\n</g>\n<!-- JOIN\n &#160;&#160;&#160;&#160;&#160;&#160;&#160;&#160;&#160;&#160;&#160;&#160;&#160;&#160;&#160;&#160;&#160;&#160;&#160;left [col(&quot;cluster&quot;)];\n &#160;&#160;&#160;&#160;&#160;&#160;&#160;&#160;&#160;&#160;&#160;&#160;&#160;&#160;&#160;&#160;&#160;&#160;&#160;right: [col(&quot;cluster&quot;)] [2]&#45;&#45;CSV SCAN ../data/dota/cluster_regions.csv;\nπ */2;\nσ &#45;\n[(40, 3)] -->\n<g id=\"edge14\" class=\"edge\">\n<title>JOIN\n                    left [col(&quot;cluster&quot;)];\n                    right: [col(&quot;cluster&quot;)] [2]--CSV SCAN ../data/dota/cluster_regions.csv;\nπ */2;\nσ -\n[(40, 3)]</title>\n<path fill=\"none\" stroke=\"black\" d=\"M936.04,-480.39C971.96,-467.26 1016.12,-451.12 1054.58,-437.06\"/>\n</g>\n<!-- CSV SCAN ../data/dota/match.csv;\nπ 12/13;\nσ &#45;\n[(30, 4)] -->\n<g id=\"node14\" class=\"node\">\n<title>CSV SCAN ../data/dota/match.csv;\nπ 12/13;\nσ -\n[(30, 4)]</title>\n<polygon fill=\"none\" stroke=\"black\" points=\"987,-333 727,-333 727,-265 987,-265 987,-333\"/>\n<text text-anchor=\"middle\" x=\"857\" y=\"-317.8\" font-family=\"Times,serif\" font-size=\"14.00\">CSV SCAN ../data/dota/match.csv;</text>\n<text text-anchor=\"middle\" x=\"857\" y=\"-302.8\" font-family=\"Times,serif\" font-size=\"14.00\">π 12/13;</text>\n<text text-anchor=\"middle\" x=\"857\" y=\"-287.8\" font-family=\"Times,serif\" font-size=\"14.00\">σ -</text>\n<text text-anchor=\"middle\" x=\"857\" y=\"-272.8\" font-family=\"Times,serif\" font-size=\"14.00\">[(30, 4)]</text>\n</g>\n<!-- FAST PROJECTION [(30, 3)]&#45;&#45;CSV SCAN ../data/dota/match.csv;\nπ 12/13;\nσ &#45;\n[(30, 4)] -->\n<g id=\"edge13\" class=\"edge\">\n<title>FAST PROJECTION [(30, 3)]--CSV SCAN ../data/dota/match.csv;\nπ 12/13;\nσ -\n[(30, 4)]</title>\n<path fill=\"none\" stroke=\"black\" d=\"M857,-384.7C857,-370.6 857,-350.29 857,-333.09\"/>\n</g>\n</g>\n</svg>",
      "text/plain": [
       "<IPython.core.display.SVG object>"
      ]
     },
     "metadata": {},
     "output_type": "display_data"
    }
   ],
   "source": [
    "pl_final_lazy.show_graph(optimized=True)"
   ]
  },
  {
   "cell_type": "code",
   "execution_count": 8,
   "metadata": {},
   "outputs": [],
   "source": [
    "pl_final = pl_final_lazy.collect()\n",
    "\n",
    "# drop cols with more than 20% NaN\n",
    "pl_final = pl_final[\n",
    "            :,\n",
    "            [\n",
    "                pl_final[col].null_count() <= 0.2 * pl_final.height\n",
    "                for col in pl_final.columns\n",
    "                if col not in [\"purchases\"]\n",
    "            ]\n",
    "            + [\"purchases\"],\n",
    "        ]"
   ]
  }
 ],
 "metadata": {
  "interpreter": {
   "hash": "215c38a1ffab15fe048699485553ca3be509ace404ed238348fe28771b453818"
  },
  "kernelspec": {
   "display_name": "Python 3.9.9 ('.venv': poetry)",
   "language": "python",
   "name": "python3"
  },
  "language_info": {
   "codemirror_mode": {
    "name": "ipython",
    "version": 3
   },
   "file_extension": ".py",
   "mimetype": "text/x-python",
   "name": "python",
   "nbconvert_exporter": "python",
   "pygments_lexer": "ipython3",
   "version": "3.9.9"
  },
  "orig_nbformat": 4
 },
 "nbformat": 4,
 "nbformat_minor": 2
}
